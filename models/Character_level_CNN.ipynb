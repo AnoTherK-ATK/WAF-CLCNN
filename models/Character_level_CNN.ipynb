{
 "nbformat": 4,
 "nbformat_minor": 0,
 "metadata": {
  "colab": {
   "provenance": []
  },
  "kernelspec": {
   "name": "python3",
   "display_name": "Python 3 (ipykernel)",
   "language": "python"
  }
 },
 "cells": [
  {
   "cell_type": "code",
   "source": "# !pip install tensorflow\n",
   "metadata": {
    "colab": {
     "base_uri": "https://localhost:8080/"
    },
    "id": "lawiOpPDtILf",
    "outputId": "33c71b64-8a94-4cf4-e349-eae89194ef35",
    "ExecuteTime": {
     "end_time": "2024-10-29T03:33:49.727207Z",
     "start_time": "2024-10-29T03:33:49.724442Z"
    }
   },
   "outputs": [],
   "execution_count": 86
  },
  {
   "metadata": {
    "ExecuteTime": {
     "end_time": "2024-10-29T03:33:49.777430Z",
     "start_time": "2024-10-29T03:33:49.774996Z"
    }
   },
   "cell_type": "code",
   "source": "# !pip install scikit-learn",
   "outputs": [],
   "execution_count": 87
  },
  {
   "metadata": {
    "ExecuteTime": {
     "end_time": "2024-10-29T03:33:49.830292Z",
     "start_time": "2024-10-29T03:33:49.828207Z"
    }
   },
   "cell_type": "code",
   "source": "# !pip install pandas",
   "outputs": [],
   "execution_count": 88
  },
  {
   "metadata": {
    "ExecuteTime": {
     "end_time": "2024-10-29T03:33:49.878792Z",
     "start_time": "2024-10-29T03:33:49.875981Z"
    }
   },
   "cell_type": "code",
   "source": "# !pip install numpy",
   "outputs": [],
   "execution_count": 89
  },
  {
   "metadata": {
    "ExecuteTime": {
     "end_time": "2024-10-29T03:33:49.927948Z",
     "start_time": "2024-10-29T03:33:49.925290Z"
    }
   },
   "cell_type": "code",
   "source": "# !pip install matplotlib",
   "outputs": [],
   "execution_count": 90
  },
  {
   "metadata": {
    "ExecuteTime": {
     "end_time": "2024-10-29T03:33:49.988615Z",
     "start_time": "2024-10-29T03:33:49.985854Z"
    }
   },
   "cell_type": "code",
   "source": "# !pip install --upgrade keras",
   "outputs": [],
   "execution_count": 91
  },
  {
   "metadata": {
    "ExecuteTime": {
     "end_time": "2024-10-29T03:33:50.048230Z",
     "start_time": "2024-10-29T03:33:50.041563Z"
    }
   },
   "cell_type": "code",
   "source": [
    "import wandb\n",
    "from wandb.integration.kfp import wandb_log\n",
    "\n",
    "wandb.login()"
   ],
   "outputs": [
    {
     "data": {
      "text/plain": [
       "True"
      ]
     },
     "execution_count": 92,
     "metadata": {},
     "output_type": "execute_result"
    }
   ],
   "execution_count": 92
  },
  {
   "metadata": {
    "ExecuteTime": {
     "end_time": "2024-10-29T03:33:50.103789Z",
     "start_time": "2024-10-29T03:33:50.101010Z"
    }
   },
   "cell_type": "code",
   "source": [
    "import os\n",
    "os.environ[\"TF_ENABLE_ONEDNN_OPTS\"] = \"0\""
   ],
   "outputs": [],
   "execution_count": 93
  },
  {
   "cell_type": "code",
   "metadata": {
    "id": "-s-l1JL-3hJp",
    "ExecuteTime": {
     "end_time": "2024-10-29T03:33:50.160760Z",
     "start_time": "2024-10-29T03:33:50.157540Z"
    }
   },
   "source": [
    "import numpy as np\n",
    "import pandas as pd\n",
    "from pwnlib.term.readline import history\n",
    "from sklearn.model_selection import train_test_split\n",
    "from sklearn.metrics import roc_curve, auc\n",
    "from tensorflow.keras.metrics import Precision, Recall\n",
    "import tensorflow as tf\n",
    "from tensorflow.keras.preprocessing.text import Tokenizer # Import Tokenizer from tensorflow.keras.preprocessing.text\n",
    "from tensorflow.keras.callbacks import TensorBoard\n",
    "import keras\n",
    "from keras.models import Model, load_model\n",
    "from tensorflow.keras.layers import BatchNormalization, Input, Embedding, Dense, Dropout, Flatten, Conv1D, MaxPool1D, Add, Reshape, Concatenate, GlobalMaxPooling1D # Removed 'normalization', 'merge'\n",
    "from keras.layers import Normalization # Import Normalization from keras.layers\n",
    "from keras.utils import plot_model, to_categorical # Removed np_utils, to_categorical is sufficient\n",
    "from keras.preprocessing import sequence\n",
    "from keras import optimizers"
   ],
   "outputs": [],
   "execution_count": 94
  },
  {
   "cell_type": "code",
   "source": [],
   "metadata": {
    "id": "5tiXaK96foqI",
    "ExecuteTime": {
     "end_time": "2024-10-29T03:33:50.208292Z",
     "start_time": "2024-10-29T03:33:50.206291Z"
    }
   },
   "outputs": [],
   "execution_count": null
  },
  {
   "cell_type": "code",
   "metadata": {
    "id": "mDxvUVCOPpLC",
    "colab": {
     "base_uri": "https://localhost:8080/"
    },
    "outputId": "760838e8-31db-4dd8-bc94-54b00a390423",
    "ExecuteTime": {
     "end_time": "2024-10-29T03:33:50.261419Z",
     "start_time": "2024-10-29T03:33:50.257756Z"
    }
   },
   "source": [
    "# from __future__ import absolute_import, division, print_function, unicode_literals\n",
    "# \n",
    "# try:\n",
    "#   # %tensorflow_version only exists in Colab.\n",
    "#   %tensorflow_version 2.x\n",
    "# except Exception:\n",
    "#   pass"
   ],
   "outputs": [],
   "execution_count": 95
  },
  {
   "metadata": {
    "ExecuteTime": {
     "end_time": "2024-10-29T03:33:50.307722Z",
     "start_time": "2024-10-29T03:33:50.304996Z"
    }
   },
   "cell_type": "code",
   "source": "# !pip install --upgrade tensorflow\n",
   "outputs": [],
   "execution_count": 96
  },
  {
   "metadata": {
    "ExecuteTime": {
     "end_time": "2024-10-29T03:33:50.382147Z",
     "start_time": "2024-10-29T03:33:50.379608Z"
    }
   },
   "cell_type": "code",
   "source": [
    "import tensorflow as tf\n",
    "print(tf.__version__)"
   ],
   "outputs": [
    {
     "name": "stdout",
     "output_type": "stream",
     "text": [
      "2.18.0\n"
     ]
    }
   ],
   "execution_count": 97
  },
  {
   "cell_type": "code",
   "metadata": {
    "id": "tpnOO6KAPtkN",
    "ExecuteTime": {
     "end_time": "2024-10-29T03:33:50.440272Z",
     "start_time": "2024-10-29T03:33:50.437119Z"
    }
   },
   "source": [
    "# Load the TensorBoard notebook extension\n",
    "%load_ext tensorboard"
   ],
   "outputs": [
    {
     "name": "stdout",
     "output_type": "stream",
     "text": [
      "The tensorboard extension is already loaded. To reload it, use:\n",
      "  %reload_ext tensorboard\n"
     ]
    }
   ],
   "execution_count": 98
  },
  {
   "cell_type": "code",
   "metadata": {
    "id": "-NzRURP9uQ9T",
    "ExecuteTime": {
     "end_time": "2024-10-29T03:33:50.478397Z",
     "start_time": "2024-10-29T03:33:50.475842Z"
    }
   },
   "source": [
    "pd.set_option(\"display.max_colwidth\", 1024)"
   ],
   "outputs": [],
   "execution_count": 99
  },
  {
   "metadata": {
    "ExecuteTime": {
     "end_time": "2024-10-29T03:33:50.528747Z",
     "start_time": "2024-10-29T03:33:50.525780Z"
    }
   },
   "cell_type": "code",
   "source": "# !nvcc --version\n",
   "outputs": [],
   "execution_count": 100
  },
  {
   "metadata": {
    "ExecuteTime": {
     "end_time": "2024-10-29T03:33:50.585557Z",
     "start_time": "2024-10-29T03:33:50.581868Z"
    }
   },
   "cell_type": "code",
   "source": [
    "from tensorflow.python.client import device_lib \n",
    "print(device_lib.list_local_devices())"
   ],
   "outputs": [
    {
     "name": "stdout",
     "output_type": "stream",
     "text": [
      "[name: \"/device:CPU:0\"\n",
      "device_type: \"CPU\"\n",
      "memory_limit: 268435456\n",
      "locality {\n",
      "}\n",
      "incarnation: 3034424236916626167\n",
      "xla_global_id: -1\n",
      ", name: \"/device:GPU:0\"\n",
      "device_type: \"GPU\"\n",
      "memory_limit: 3760193536\n",
      "locality {\n",
      "  bus_id: 1\n",
      "  links {\n",
      "  }\n",
      "}\n",
      "incarnation: 5518140011491862585\n",
      "physical_device_desc: \"device: 0, name: NVIDIA GeForce RTX 3060 Laptop GPU, pci bus id: 0000:01:00.0, compute capability: 8.6\"\n",
      "xla_global_id: 416903419\n",
      "]\n"
     ]
    },
    {
     "name": "stderr",
     "output_type": "stream",
     "text": [
      "I0000 00:00:1730172830.583025    7480 gpu_device.cc:2022] Created device /device:GPU:0 with 3586 MB memory:  -> device: 0, name: NVIDIA GeForce RTX 3060 Laptop GPU, pci bus id: 0000:01:00.0, compute capability: 8.6\n"
     ]
    }
   ],
   "execution_count": 101
  },
  {
   "metadata": {
    "ExecuteTime": {
     "end_time": "2024-10-29T03:33:50.647610Z",
     "start_time": "2024-10-29T03:33:50.645233Z"
    }
   },
   "cell_type": "code",
   "source": "tf.debugging.set_log_device_placement(False)",
   "outputs": [],
   "execution_count": 102
  },
  {
   "metadata": {
    "ExecuteTime": {
     "end_time": "2024-10-29T03:33:50.702843Z",
     "start_time": "2024-10-29T03:33:50.700187Z"
    }
   },
   "cell_type": "code",
   "source": [
    "import tensorflow as tf\n",
    "print(\"Num GPUs Available: \", len(tf.config.list_physical_devices('GPU')))"
   ],
   "outputs": [
    {
     "name": "stdout",
     "output_type": "stream",
     "text": [
      "Num GPUs Available:  1\n"
     ]
    }
   ],
   "execution_count": 103
  },
  {
   "cell_type": "code",
   "metadata": {
    "id": "yIJK0lixnQNM",
    "colab": {
     "base_uri": "https://localhost:8080/"
    },
    "outputId": "c9cb83d6-a7b0-445b-aacc-c013120fe333",
    "ExecuteTime": {
     "end_time": "2024-10-29T03:33:50.754744Z",
     "start_time": "2024-10-29T03:33:50.752556Z"
    }
   },
   "source": [
    "# from google.colab import drive\n",
    "# drive.mount('/content/drive')\n",
    "# %cd /content/drive/MyDrive/WAffle/"
   ],
   "outputs": [],
   "execution_count": 104
  },
  {
   "cell_type": "code",
   "metadata": {
    "id": "XZqaE3AznsXR",
    "ExecuteTime": {
     "end_time": "2024-10-29T03:33:51.081163Z",
     "start_time": "2024-10-29T03:33:50.805629Z"
    }
   },
   "source": "df = pd.read_csv('Dataset/cisc_database/csic_database.csv')",
   "outputs": [],
   "execution_count": 105
  },
  {
   "cell_type": "code",
   "source": [
    "df.head()"
   ],
   "metadata": {
    "colab": {
     "base_uri": "https://localhost:8080/",
     "height": 206
    },
    "id": "5XauavDg8spu",
    "outputId": "999607b9-6fef-423b-ea57-5ddb48b07cb9",
    "ExecuteTime": {
     "end_time": "2024-10-29T03:33:51.111800Z",
     "start_time": "2024-10-29T03:33:51.102846Z"
    }
   },
   "outputs": [
    {
     "data": {
      "text/plain": [
       "  Unnamed: 0 Method  \\\n",
       "0     Normal    GET   \n",
       "1     Normal    GET   \n",
       "2     Normal    GET   \n",
       "3     Normal   POST   \n",
       "4     Normal    GET   \n",
       "\n",
       "                                                                User-Agent  \\\n",
       "0  Mozilla/5.0 (compatible; Konqueror/3.5; Linux) KHTML/3.5.8 (like Gecko)   \n",
       "1  Mozilla/5.0 (compatible; Konqueror/3.5; Linux) KHTML/3.5.8 (like Gecko)   \n",
       "2  Mozilla/5.0 (compatible; Konqueror/3.5; Linux) KHTML/3.5.8 (like Gecko)   \n",
       "3  Mozilla/5.0 (compatible; Konqueror/3.5; Linux) KHTML/3.5.8 (like Gecko)   \n",
       "4  Mozilla/5.0 (compatible; Konqueror/3.5; Linux) KHTML/3.5.8 (like Gecko)   \n",
       "\n",
       "     Pragma Cache-Control  \\\n",
       "0  no-cache      no-cache   \n",
       "1  no-cache      no-cache   \n",
       "2  no-cache      no-cache   \n",
       "3  no-cache      no-cache   \n",
       "4  no-cache      no-cache   \n",
       "\n",
       "                                                                                                Accept  \\\n",
       "0  text/xml,application/xml,application/xhtml+xml,text/html;q=0.9,text/plain;q=0.8,image/png,*/*;q=0.5   \n",
       "1  text/xml,application/xml,application/xhtml+xml,text/html;q=0.9,text/plain;q=0.8,image/png,*/*;q=0.5   \n",
       "2  text/xml,application/xml,application/xhtml+xml,text/html;q=0.9,text/plain;q=0.8,image/png,*/*;q=0.5   \n",
       "3  text/xml,application/xml,application/xhtml+xml,text/html;q=0.9,text/plain;q=0.8,image/png,*/*;q=0.5   \n",
       "4  text/xml,application/xml,application/xhtml+xml,text/html;q=0.9,text/plain;q=0.8,image/png,*/*;q=0.5   \n",
       "\n",
       "                    Accept-encoding               Accept-charset language  \\\n",
       "0  x-gzip, x-deflate, gzip, deflate  utf-8, utf-8;q=0.5, *;q=0.5       en   \n",
       "1  x-gzip, x-deflate, gzip, deflate  utf-8, utf-8;q=0.5, *;q=0.5       en   \n",
       "2  x-gzip, x-deflate, gzip, deflate  utf-8, utf-8;q=0.5, *;q=0.5       en   \n",
       "3  x-gzip, x-deflate, gzip, deflate  utf-8, utf-8;q=0.5, *;q=0.5       en   \n",
       "4  x-gzip, x-deflate, gzip, deflate  utf-8, utf-8;q=0.5, *;q=0.5       en   \n",
       "\n",
       "             host                                       cookie  \\\n",
       "0  localhost:8080  JSESSIONID=1F767F17239C9B670A39E9B10C3825F4   \n",
       "1  localhost:8080  JSESSIONID=1F767F17239C9B670A39E9B10C3825F4   \n",
       "2  localhost:8080  JSESSIONID=81761ACA043B0E6014CA42A4BCD06AB5   \n",
       "3  localhost:8080  JSESSIONID=933185092E0B668B90676E0A2B0767AF   \n",
       "4  localhost:8080  JSESSIONID=8FA18BA82C5336D03D3A8AFA3E68CBB0   \n",
       "\n",
       "                        content-type         connection              lenght  \\\n",
       "0                                NaN              close                 NaN   \n",
       "1                                NaN              close                 NaN   \n",
       "2                                NaN              close                 NaN   \n",
       "3  application/x-www-form-urlencoded  Connection: close  Content-Length: 68   \n",
       "4                                NaN              close                 NaN   \n",
       "\n",
       "                                                                content  \\\n",
       "0                                                                   NaN   \n",
       "1                                                                   NaN   \n",
       "2                                                                   NaN   \n",
       "3  id=3&nombre=Vino+Rioja&precio=100&cantidad=55&B1=A%F1adir+al+carrito   \n",
       "4                                                                   NaN   \n",
       "\n",
       "   classification  \\\n",
       "0               0   \n",
       "1               0   \n",
       "2               0   \n",
       "3               0   \n",
       "4               0   \n",
       "\n",
       "                                                                                                                              URL  \n",
       "0                                                                                http://localhost:8080/tienda1/index.jsp HTTP/1.1  \n",
       "1                                                                                       http://localhost:8080/favico.ico HTTP/1.1  \n",
       "2  http://localhost:8080/tienda1/publico/anadir.jsp?id=3&nombre=Vino+Rioja&precio=100&cantidad=55&B1=A%F1adir+al+carrito HTTP/1.1  \n",
       "3                                                                       http://localhost:8080/tienda1/publico/anadir.jsp HTTP/1.1  \n",
       "4   http://localhost:8080/tienda1/publico/autenticar.jsp?modo=entrar&login=choong&pwd=d1se3ci%F3n&remember=off&B1=Entrar HTTP/1.1  "
      ],
      "text/html": [
       "<div>\n",
       "<style scoped>\n",
       "    .dataframe tbody tr th:only-of-type {\n",
       "        vertical-align: middle;\n",
       "    }\n",
       "\n",
       "    .dataframe tbody tr th {\n",
       "        vertical-align: top;\n",
       "    }\n",
       "\n",
       "    .dataframe thead th {\n",
       "        text-align: right;\n",
       "    }\n",
       "</style>\n",
       "<table border=\"1\" class=\"dataframe\">\n",
       "  <thead>\n",
       "    <tr style=\"text-align: right;\">\n",
       "      <th></th>\n",
       "      <th>Unnamed: 0</th>\n",
       "      <th>Method</th>\n",
       "      <th>User-Agent</th>\n",
       "      <th>Pragma</th>\n",
       "      <th>Cache-Control</th>\n",
       "      <th>Accept</th>\n",
       "      <th>Accept-encoding</th>\n",
       "      <th>Accept-charset</th>\n",
       "      <th>language</th>\n",
       "      <th>host</th>\n",
       "      <th>cookie</th>\n",
       "      <th>content-type</th>\n",
       "      <th>connection</th>\n",
       "      <th>lenght</th>\n",
       "      <th>content</th>\n",
       "      <th>classification</th>\n",
       "      <th>URL</th>\n",
       "    </tr>\n",
       "  </thead>\n",
       "  <tbody>\n",
       "    <tr>\n",
       "      <th>0</th>\n",
       "      <td>Normal</td>\n",
       "      <td>GET</td>\n",
       "      <td>Mozilla/5.0 (compatible; Konqueror/3.5; Linux) KHTML/3.5.8 (like Gecko)</td>\n",
       "      <td>no-cache</td>\n",
       "      <td>no-cache</td>\n",
       "      <td>text/xml,application/xml,application/xhtml+xml,text/html;q=0.9,text/plain;q=0.8,image/png,*/*;q=0.5</td>\n",
       "      <td>x-gzip, x-deflate, gzip, deflate</td>\n",
       "      <td>utf-8, utf-8;q=0.5, *;q=0.5</td>\n",
       "      <td>en</td>\n",
       "      <td>localhost:8080</td>\n",
       "      <td>JSESSIONID=1F767F17239C9B670A39E9B10C3825F4</td>\n",
       "      <td>NaN</td>\n",
       "      <td>close</td>\n",
       "      <td>NaN</td>\n",
       "      <td>NaN</td>\n",
       "      <td>0</td>\n",
       "      <td>http://localhost:8080/tienda1/index.jsp HTTP/1.1</td>\n",
       "    </tr>\n",
       "    <tr>\n",
       "      <th>1</th>\n",
       "      <td>Normal</td>\n",
       "      <td>GET</td>\n",
       "      <td>Mozilla/5.0 (compatible; Konqueror/3.5; Linux) KHTML/3.5.8 (like Gecko)</td>\n",
       "      <td>no-cache</td>\n",
       "      <td>no-cache</td>\n",
       "      <td>text/xml,application/xml,application/xhtml+xml,text/html;q=0.9,text/plain;q=0.8,image/png,*/*;q=0.5</td>\n",
       "      <td>x-gzip, x-deflate, gzip, deflate</td>\n",
       "      <td>utf-8, utf-8;q=0.5, *;q=0.5</td>\n",
       "      <td>en</td>\n",
       "      <td>localhost:8080</td>\n",
       "      <td>JSESSIONID=1F767F17239C9B670A39E9B10C3825F4</td>\n",
       "      <td>NaN</td>\n",
       "      <td>close</td>\n",
       "      <td>NaN</td>\n",
       "      <td>NaN</td>\n",
       "      <td>0</td>\n",
       "      <td>http://localhost:8080/favico.ico HTTP/1.1</td>\n",
       "    </tr>\n",
       "    <tr>\n",
       "      <th>2</th>\n",
       "      <td>Normal</td>\n",
       "      <td>GET</td>\n",
       "      <td>Mozilla/5.0 (compatible; Konqueror/3.5; Linux) KHTML/3.5.8 (like Gecko)</td>\n",
       "      <td>no-cache</td>\n",
       "      <td>no-cache</td>\n",
       "      <td>text/xml,application/xml,application/xhtml+xml,text/html;q=0.9,text/plain;q=0.8,image/png,*/*;q=0.5</td>\n",
       "      <td>x-gzip, x-deflate, gzip, deflate</td>\n",
       "      <td>utf-8, utf-8;q=0.5, *;q=0.5</td>\n",
       "      <td>en</td>\n",
       "      <td>localhost:8080</td>\n",
       "      <td>JSESSIONID=81761ACA043B0E6014CA42A4BCD06AB5</td>\n",
       "      <td>NaN</td>\n",
       "      <td>close</td>\n",
       "      <td>NaN</td>\n",
       "      <td>NaN</td>\n",
       "      <td>0</td>\n",
       "      <td>http://localhost:8080/tienda1/publico/anadir.jsp?id=3&amp;nombre=Vino+Rioja&amp;precio=100&amp;cantidad=55&amp;B1=A%F1adir+al+carrito HTTP/1.1</td>\n",
       "    </tr>\n",
       "    <tr>\n",
       "      <th>3</th>\n",
       "      <td>Normal</td>\n",
       "      <td>POST</td>\n",
       "      <td>Mozilla/5.0 (compatible; Konqueror/3.5; Linux) KHTML/3.5.8 (like Gecko)</td>\n",
       "      <td>no-cache</td>\n",
       "      <td>no-cache</td>\n",
       "      <td>text/xml,application/xml,application/xhtml+xml,text/html;q=0.9,text/plain;q=0.8,image/png,*/*;q=0.5</td>\n",
       "      <td>x-gzip, x-deflate, gzip, deflate</td>\n",
       "      <td>utf-8, utf-8;q=0.5, *;q=0.5</td>\n",
       "      <td>en</td>\n",
       "      <td>localhost:8080</td>\n",
       "      <td>JSESSIONID=933185092E0B668B90676E0A2B0767AF</td>\n",
       "      <td>application/x-www-form-urlencoded</td>\n",
       "      <td>Connection: close</td>\n",
       "      <td>Content-Length: 68</td>\n",
       "      <td>id=3&amp;nombre=Vino+Rioja&amp;precio=100&amp;cantidad=55&amp;B1=A%F1adir+al+carrito</td>\n",
       "      <td>0</td>\n",
       "      <td>http://localhost:8080/tienda1/publico/anadir.jsp HTTP/1.1</td>\n",
       "    </tr>\n",
       "    <tr>\n",
       "      <th>4</th>\n",
       "      <td>Normal</td>\n",
       "      <td>GET</td>\n",
       "      <td>Mozilla/5.0 (compatible; Konqueror/3.5; Linux) KHTML/3.5.8 (like Gecko)</td>\n",
       "      <td>no-cache</td>\n",
       "      <td>no-cache</td>\n",
       "      <td>text/xml,application/xml,application/xhtml+xml,text/html;q=0.9,text/plain;q=0.8,image/png,*/*;q=0.5</td>\n",
       "      <td>x-gzip, x-deflate, gzip, deflate</td>\n",
       "      <td>utf-8, utf-8;q=0.5, *;q=0.5</td>\n",
       "      <td>en</td>\n",
       "      <td>localhost:8080</td>\n",
       "      <td>JSESSIONID=8FA18BA82C5336D03D3A8AFA3E68CBB0</td>\n",
       "      <td>NaN</td>\n",
       "      <td>close</td>\n",
       "      <td>NaN</td>\n",
       "      <td>NaN</td>\n",
       "      <td>0</td>\n",
       "      <td>http://localhost:8080/tienda1/publico/autenticar.jsp?modo=entrar&amp;login=choong&amp;pwd=d1se3ci%F3n&amp;remember=off&amp;B1=Entrar HTTP/1.1</td>\n",
       "    </tr>\n",
       "  </tbody>\n",
       "</table>\n",
       "</div>"
      ]
     },
     "execution_count": 106,
     "metadata": {},
     "output_type": "execute_result"
    }
   ],
   "execution_count": 106
  },
  {
   "cell_type": "code",
   "metadata": {
    "id": "KKg3lQiIXNiE",
    "ExecuteTime": {
     "end_time": "2024-10-29T03:33:51.178945Z",
     "start_time": "2024-10-29T03:33:51.176211Z"
    }
   },
   "source": "df.rename(columns={df.columns[0]: 'Target'}, inplace=True)",
   "outputs": [],
   "execution_count": 107
  },
  {
   "metadata": {
    "ExecuteTime": {
     "end_time": "2024-10-29T03:33:51.232285Z",
     "start_time": "2024-10-29T03:33:51.228637Z"
    }
   },
   "cell_type": "code",
   "source": [
    "def clean_url(url):\n",
    "    if ' HTTP/' in url:\n",
    "        return url.split(' HTTP/')[0]\n",
    "    return url"
   ],
   "outputs": [],
   "execution_count": 108
  },
  {
   "metadata": {
    "ExecuteTime": {
     "end_time": "2024-10-29T03:33:51.320727Z",
     "start_time": "2024-10-29T03:33:51.304684Z"
    }
   },
   "cell_type": "code",
   "source": "df['URL'] = df['URL'].apply(clean_url)\n",
   "outputs": [],
   "execution_count": 109
  },
  {
   "cell_type": "code",
   "metadata": {
    "id": "aoztO_ZdrpiQ",
    "colab": {
     "base_uri": "https://localhost:8080/",
     "height": 206
    },
    "outputId": "1386a35d-b834-4729-9ee7-a290141c3ce1",
    "ExecuteTime": {
     "end_time": "2024-10-29T03:33:51.394680Z",
     "start_time": "2024-10-29T03:33:51.386774Z"
    }
   },
   "source": [
    "df.head()"
   ],
   "outputs": [
    {
     "data": {
      "text/plain": [
       "   Target Method  \\\n",
       "0  Normal    GET   \n",
       "1  Normal    GET   \n",
       "2  Normal    GET   \n",
       "3  Normal   POST   \n",
       "4  Normal    GET   \n",
       "\n",
       "                                                                User-Agent  \\\n",
       "0  Mozilla/5.0 (compatible; Konqueror/3.5; Linux) KHTML/3.5.8 (like Gecko)   \n",
       "1  Mozilla/5.0 (compatible; Konqueror/3.5; Linux) KHTML/3.5.8 (like Gecko)   \n",
       "2  Mozilla/5.0 (compatible; Konqueror/3.5; Linux) KHTML/3.5.8 (like Gecko)   \n",
       "3  Mozilla/5.0 (compatible; Konqueror/3.5; Linux) KHTML/3.5.8 (like Gecko)   \n",
       "4  Mozilla/5.0 (compatible; Konqueror/3.5; Linux) KHTML/3.5.8 (like Gecko)   \n",
       "\n",
       "     Pragma Cache-Control  \\\n",
       "0  no-cache      no-cache   \n",
       "1  no-cache      no-cache   \n",
       "2  no-cache      no-cache   \n",
       "3  no-cache      no-cache   \n",
       "4  no-cache      no-cache   \n",
       "\n",
       "                                                                                                Accept  \\\n",
       "0  text/xml,application/xml,application/xhtml+xml,text/html;q=0.9,text/plain;q=0.8,image/png,*/*;q=0.5   \n",
       "1  text/xml,application/xml,application/xhtml+xml,text/html;q=0.9,text/plain;q=0.8,image/png,*/*;q=0.5   \n",
       "2  text/xml,application/xml,application/xhtml+xml,text/html;q=0.9,text/plain;q=0.8,image/png,*/*;q=0.5   \n",
       "3  text/xml,application/xml,application/xhtml+xml,text/html;q=0.9,text/plain;q=0.8,image/png,*/*;q=0.5   \n",
       "4  text/xml,application/xml,application/xhtml+xml,text/html;q=0.9,text/plain;q=0.8,image/png,*/*;q=0.5   \n",
       "\n",
       "                    Accept-encoding               Accept-charset language  \\\n",
       "0  x-gzip, x-deflate, gzip, deflate  utf-8, utf-8;q=0.5, *;q=0.5       en   \n",
       "1  x-gzip, x-deflate, gzip, deflate  utf-8, utf-8;q=0.5, *;q=0.5       en   \n",
       "2  x-gzip, x-deflate, gzip, deflate  utf-8, utf-8;q=0.5, *;q=0.5       en   \n",
       "3  x-gzip, x-deflate, gzip, deflate  utf-8, utf-8;q=0.5, *;q=0.5       en   \n",
       "4  x-gzip, x-deflate, gzip, deflate  utf-8, utf-8;q=0.5, *;q=0.5       en   \n",
       "\n",
       "             host                                       cookie  \\\n",
       "0  localhost:8080  JSESSIONID=1F767F17239C9B670A39E9B10C3825F4   \n",
       "1  localhost:8080  JSESSIONID=1F767F17239C9B670A39E9B10C3825F4   \n",
       "2  localhost:8080  JSESSIONID=81761ACA043B0E6014CA42A4BCD06AB5   \n",
       "3  localhost:8080  JSESSIONID=933185092E0B668B90676E0A2B0767AF   \n",
       "4  localhost:8080  JSESSIONID=8FA18BA82C5336D03D3A8AFA3E68CBB0   \n",
       "\n",
       "                        content-type         connection              lenght  \\\n",
       "0                                NaN              close                 NaN   \n",
       "1                                NaN              close                 NaN   \n",
       "2                                NaN              close                 NaN   \n",
       "3  application/x-www-form-urlencoded  Connection: close  Content-Length: 68   \n",
       "4                                NaN              close                 NaN   \n",
       "\n",
       "                                                                content  \\\n",
       "0                                                                   NaN   \n",
       "1                                                                   NaN   \n",
       "2                                                                   NaN   \n",
       "3  id=3&nombre=Vino+Rioja&precio=100&cantidad=55&B1=A%F1adir+al+carrito   \n",
       "4                                                                   NaN   \n",
       "\n",
       "   classification  \\\n",
       "0               0   \n",
       "1               0   \n",
       "2               0   \n",
       "3               0   \n",
       "4               0   \n",
       "\n",
       "                                                                                                                     URL  \n",
       "0                                                                                http://localhost:8080/tienda1/index.jsp  \n",
       "1                                                                                       http://localhost:8080/favico.ico  \n",
       "2  http://localhost:8080/tienda1/publico/anadir.jsp?id=3&nombre=Vino+Rioja&precio=100&cantidad=55&B1=A%F1adir+al+carrito  \n",
       "3                                                                       http://localhost:8080/tienda1/publico/anadir.jsp  \n",
       "4   http://localhost:8080/tienda1/publico/autenticar.jsp?modo=entrar&login=choong&pwd=d1se3ci%F3n&remember=off&B1=Entrar  "
      ],
      "text/html": [
       "<div>\n",
       "<style scoped>\n",
       "    .dataframe tbody tr th:only-of-type {\n",
       "        vertical-align: middle;\n",
       "    }\n",
       "\n",
       "    .dataframe tbody tr th {\n",
       "        vertical-align: top;\n",
       "    }\n",
       "\n",
       "    .dataframe thead th {\n",
       "        text-align: right;\n",
       "    }\n",
       "</style>\n",
       "<table border=\"1\" class=\"dataframe\">\n",
       "  <thead>\n",
       "    <tr style=\"text-align: right;\">\n",
       "      <th></th>\n",
       "      <th>Target</th>\n",
       "      <th>Method</th>\n",
       "      <th>User-Agent</th>\n",
       "      <th>Pragma</th>\n",
       "      <th>Cache-Control</th>\n",
       "      <th>Accept</th>\n",
       "      <th>Accept-encoding</th>\n",
       "      <th>Accept-charset</th>\n",
       "      <th>language</th>\n",
       "      <th>host</th>\n",
       "      <th>cookie</th>\n",
       "      <th>content-type</th>\n",
       "      <th>connection</th>\n",
       "      <th>lenght</th>\n",
       "      <th>content</th>\n",
       "      <th>classification</th>\n",
       "      <th>URL</th>\n",
       "    </tr>\n",
       "  </thead>\n",
       "  <tbody>\n",
       "    <tr>\n",
       "      <th>0</th>\n",
       "      <td>Normal</td>\n",
       "      <td>GET</td>\n",
       "      <td>Mozilla/5.0 (compatible; Konqueror/3.5; Linux) KHTML/3.5.8 (like Gecko)</td>\n",
       "      <td>no-cache</td>\n",
       "      <td>no-cache</td>\n",
       "      <td>text/xml,application/xml,application/xhtml+xml,text/html;q=0.9,text/plain;q=0.8,image/png,*/*;q=0.5</td>\n",
       "      <td>x-gzip, x-deflate, gzip, deflate</td>\n",
       "      <td>utf-8, utf-8;q=0.5, *;q=0.5</td>\n",
       "      <td>en</td>\n",
       "      <td>localhost:8080</td>\n",
       "      <td>JSESSIONID=1F767F17239C9B670A39E9B10C3825F4</td>\n",
       "      <td>NaN</td>\n",
       "      <td>close</td>\n",
       "      <td>NaN</td>\n",
       "      <td>NaN</td>\n",
       "      <td>0</td>\n",
       "      <td>http://localhost:8080/tienda1/index.jsp</td>\n",
       "    </tr>\n",
       "    <tr>\n",
       "      <th>1</th>\n",
       "      <td>Normal</td>\n",
       "      <td>GET</td>\n",
       "      <td>Mozilla/5.0 (compatible; Konqueror/3.5; Linux) KHTML/3.5.8 (like Gecko)</td>\n",
       "      <td>no-cache</td>\n",
       "      <td>no-cache</td>\n",
       "      <td>text/xml,application/xml,application/xhtml+xml,text/html;q=0.9,text/plain;q=0.8,image/png,*/*;q=0.5</td>\n",
       "      <td>x-gzip, x-deflate, gzip, deflate</td>\n",
       "      <td>utf-8, utf-8;q=0.5, *;q=0.5</td>\n",
       "      <td>en</td>\n",
       "      <td>localhost:8080</td>\n",
       "      <td>JSESSIONID=1F767F17239C9B670A39E9B10C3825F4</td>\n",
       "      <td>NaN</td>\n",
       "      <td>close</td>\n",
       "      <td>NaN</td>\n",
       "      <td>NaN</td>\n",
       "      <td>0</td>\n",
       "      <td>http://localhost:8080/favico.ico</td>\n",
       "    </tr>\n",
       "    <tr>\n",
       "      <th>2</th>\n",
       "      <td>Normal</td>\n",
       "      <td>GET</td>\n",
       "      <td>Mozilla/5.0 (compatible; Konqueror/3.5; Linux) KHTML/3.5.8 (like Gecko)</td>\n",
       "      <td>no-cache</td>\n",
       "      <td>no-cache</td>\n",
       "      <td>text/xml,application/xml,application/xhtml+xml,text/html;q=0.9,text/plain;q=0.8,image/png,*/*;q=0.5</td>\n",
       "      <td>x-gzip, x-deflate, gzip, deflate</td>\n",
       "      <td>utf-8, utf-8;q=0.5, *;q=0.5</td>\n",
       "      <td>en</td>\n",
       "      <td>localhost:8080</td>\n",
       "      <td>JSESSIONID=81761ACA043B0E6014CA42A4BCD06AB5</td>\n",
       "      <td>NaN</td>\n",
       "      <td>close</td>\n",
       "      <td>NaN</td>\n",
       "      <td>NaN</td>\n",
       "      <td>0</td>\n",
       "      <td>http://localhost:8080/tienda1/publico/anadir.jsp?id=3&amp;nombre=Vino+Rioja&amp;precio=100&amp;cantidad=55&amp;B1=A%F1adir+al+carrito</td>\n",
       "    </tr>\n",
       "    <tr>\n",
       "      <th>3</th>\n",
       "      <td>Normal</td>\n",
       "      <td>POST</td>\n",
       "      <td>Mozilla/5.0 (compatible; Konqueror/3.5; Linux) KHTML/3.5.8 (like Gecko)</td>\n",
       "      <td>no-cache</td>\n",
       "      <td>no-cache</td>\n",
       "      <td>text/xml,application/xml,application/xhtml+xml,text/html;q=0.9,text/plain;q=0.8,image/png,*/*;q=0.5</td>\n",
       "      <td>x-gzip, x-deflate, gzip, deflate</td>\n",
       "      <td>utf-8, utf-8;q=0.5, *;q=0.5</td>\n",
       "      <td>en</td>\n",
       "      <td>localhost:8080</td>\n",
       "      <td>JSESSIONID=933185092E0B668B90676E0A2B0767AF</td>\n",
       "      <td>application/x-www-form-urlencoded</td>\n",
       "      <td>Connection: close</td>\n",
       "      <td>Content-Length: 68</td>\n",
       "      <td>id=3&amp;nombre=Vino+Rioja&amp;precio=100&amp;cantidad=55&amp;B1=A%F1adir+al+carrito</td>\n",
       "      <td>0</td>\n",
       "      <td>http://localhost:8080/tienda1/publico/anadir.jsp</td>\n",
       "    </tr>\n",
       "    <tr>\n",
       "      <th>4</th>\n",
       "      <td>Normal</td>\n",
       "      <td>GET</td>\n",
       "      <td>Mozilla/5.0 (compatible; Konqueror/3.5; Linux) KHTML/3.5.8 (like Gecko)</td>\n",
       "      <td>no-cache</td>\n",
       "      <td>no-cache</td>\n",
       "      <td>text/xml,application/xml,application/xhtml+xml,text/html;q=0.9,text/plain;q=0.8,image/png,*/*;q=0.5</td>\n",
       "      <td>x-gzip, x-deflate, gzip, deflate</td>\n",
       "      <td>utf-8, utf-8;q=0.5, *;q=0.5</td>\n",
       "      <td>en</td>\n",
       "      <td>localhost:8080</td>\n",
       "      <td>JSESSIONID=8FA18BA82C5336D03D3A8AFA3E68CBB0</td>\n",
       "      <td>NaN</td>\n",
       "      <td>close</td>\n",
       "      <td>NaN</td>\n",
       "      <td>NaN</td>\n",
       "      <td>0</td>\n",
       "      <td>http://localhost:8080/tienda1/publico/autenticar.jsp?modo=entrar&amp;login=choong&amp;pwd=d1se3ci%F3n&amp;remember=off&amp;B1=Entrar</td>\n",
       "    </tr>\n",
       "  </tbody>\n",
       "</table>\n",
       "</div>"
      ]
     },
     "execution_count": 110,
     "metadata": {},
     "output_type": "execute_result"
    }
   ],
   "execution_count": 110
  },
  {
   "cell_type": "code",
   "metadata": {
    "id": "yaEXeyoNp-SE",
    "colab": {
     "base_uri": "https://localhost:8080/",
     "height": 206
    },
    "outputId": "8a666e5d-83e3-409f-9f94-3ba034d71486",
    "ExecuteTime": {
     "end_time": "2024-10-29T03:33:51.470900Z",
     "start_time": "2024-10-29T03:33:51.466942Z"
    }
   },
   "source": "df = df[['Target', 'URL']]",
   "outputs": [],
   "execution_count": 111
  },
  {
   "metadata": {
    "ExecuteTime": {
     "end_time": "2024-10-29T03:33:51.522657Z",
     "start_time": "2024-10-29T03:33:51.520064Z"
    }
   },
   "cell_type": "code",
   "source": "print(df['Target'].dtype)\n",
   "outputs": [
    {
     "name": "stdout",
     "output_type": "stream",
     "text": [
      "object\n"
     ]
    }
   ],
   "execution_count": 112
  },
  {
   "metadata": {
    "ExecuteTime": {
     "end_time": "2024-10-29T03:33:51.603159Z",
     "start_time": "2024-10-29T03:33:51.599833Z"
    }
   },
   "cell_type": "code",
   "source": [
    "label = df['Target'].unique()\n",
    "print(label)"
   ],
   "outputs": [
    {
     "name": "stdout",
     "output_type": "stream",
     "text": [
      "['Normal' 'Anomalous']\n"
     ]
    }
   ],
   "execution_count": 113
  },
  {
   "metadata": {
    "ExecuteTime": {
     "end_time": "2024-10-29T03:33:51.701728Z",
     "start_time": "2024-10-29T03:33:51.699180Z"
    }
   },
   "cell_type": "code",
   "source": "print(df['Target'][0]== 'Normal')",
   "outputs": [
    {
     "name": "stdout",
     "output_type": "stream",
     "text": [
      "True\n"
     ]
    }
   ],
   "execution_count": 114
  },
  {
   "cell_type": "code",
   "metadata": {
    "id": "0eveT8z_hP3Q",
    "colab": {
     "base_uri": "https://localhost:8080/",
     "height": 206
    },
    "outputId": "77aaadcb-5101-4868-de27-52c76aba08fd",
    "ExecuteTime": {
     "end_time": "2024-10-29T03:33:51.771056Z",
     "start_time": "2024-10-29T03:33:51.756011Z"
    }
   },
   "source": [
    "# \n",
    "# if (df['Target'] == Normal){0} else {1}\n",
    "\n",
    "# \n",
    "df['Target'] = df['Target'].apply(lambda x:0 if str(x) == 'Normal' else 1)\n",
    "df.head()"
   ],
   "outputs": [
    {
     "data": {
      "text/plain": [
       "   Target  \\\n",
       "0       0   \n",
       "1       0   \n",
       "2       0   \n",
       "3       0   \n",
       "4       0   \n",
       "\n",
       "                                                                                                                     URL  \n",
       "0                                                                                http://localhost:8080/tienda1/index.jsp  \n",
       "1                                                                                       http://localhost:8080/favico.ico  \n",
       "2  http://localhost:8080/tienda1/publico/anadir.jsp?id=3&nombre=Vino+Rioja&precio=100&cantidad=55&B1=A%F1adir+al+carrito  \n",
       "3                                                                       http://localhost:8080/tienda1/publico/anadir.jsp  \n",
       "4   http://localhost:8080/tienda1/publico/autenticar.jsp?modo=entrar&login=choong&pwd=d1se3ci%F3n&remember=off&B1=Entrar  "
      ],
      "text/html": [
       "<div>\n",
       "<style scoped>\n",
       "    .dataframe tbody tr th:only-of-type {\n",
       "        vertical-align: middle;\n",
       "    }\n",
       "\n",
       "    .dataframe tbody tr th {\n",
       "        vertical-align: top;\n",
       "    }\n",
       "\n",
       "    .dataframe thead th {\n",
       "        text-align: right;\n",
       "    }\n",
       "</style>\n",
       "<table border=\"1\" class=\"dataframe\">\n",
       "  <thead>\n",
       "    <tr style=\"text-align: right;\">\n",
       "      <th></th>\n",
       "      <th>Target</th>\n",
       "      <th>URL</th>\n",
       "    </tr>\n",
       "  </thead>\n",
       "  <tbody>\n",
       "    <tr>\n",
       "      <th>0</th>\n",
       "      <td>0</td>\n",
       "      <td>http://localhost:8080/tienda1/index.jsp</td>\n",
       "    </tr>\n",
       "    <tr>\n",
       "      <th>1</th>\n",
       "      <td>0</td>\n",
       "      <td>http://localhost:8080/favico.ico</td>\n",
       "    </tr>\n",
       "    <tr>\n",
       "      <th>2</th>\n",
       "      <td>0</td>\n",
       "      <td>http://localhost:8080/tienda1/publico/anadir.jsp?id=3&amp;nombre=Vino+Rioja&amp;precio=100&amp;cantidad=55&amp;B1=A%F1adir+al+carrito</td>\n",
       "    </tr>\n",
       "    <tr>\n",
       "      <th>3</th>\n",
       "      <td>0</td>\n",
       "      <td>http://localhost:8080/tienda1/publico/anadir.jsp</td>\n",
       "    </tr>\n",
       "    <tr>\n",
       "      <th>4</th>\n",
       "      <td>0</td>\n",
       "      <td>http://localhost:8080/tienda1/publico/autenticar.jsp?modo=entrar&amp;login=choong&amp;pwd=d1se3ci%F3n&amp;remember=off&amp;B1=Entrar</td>\n",
       "    </tr>\n",
       "  </tbody>\n",
       "</table>\n",
       "</div>"
      ]
     },
     "execution_count": 115,
     "metadata": {},
     "output_type": "execute_result"
    }
   ],
   "execution_count": 115
  },
  {
   "metadata": {
    "ExecuteTime": {
     "end_time": "2024-10-29T03:33:51.846037Z",
     "start_time": "2024-10-29T03:33:51.835346Z"
    }
   },
   "cell_type": "code",
   "source": [
    "# Training : Validation : Test = 7.5 : 1.5 : 1.0\n",
    "\n",
    "train_ratio = 0.75\n",
    "validation_ratio = 0.15\n",
    "test_ratio = 0.10\n",
    "\n",
    "# train is now 75% of the entire data set\n",
    "# the _junk suffix means that we drop that variable completely\n",
    "X_train, X_test, y_train, y_test = train_test_split(df['URL'], df['Target'], test_size=1 - train_ratio, random_state=1110)\n",
    "\n",
    "# test is now 10% of the initial data set\n",
    "# validation is now 15% of the initial data set\n",
    "X_val, X_test, y_val, y_test = train_test_split(X_test, y_test, test_size=test_ratio/(test_ratio + validation_ratio), random_state=1110)\n",
    "\n",
    "print(X_train, X_val, X_test)\n",
    "\n"
   ],
   "outputs": [
    {
     "name": "stdout",
     "output_type": "stream",
     "text": [
      "7707                                                                                                                                                                                                                                                                         http://localhost:8080/tienda1/index.jsp\n",
      "45711                                                                                                                                                                                                                                                              http://localhost:8080/tienda1/miembros/editar.jsp\n",
      "932                                                                                                                                                                                                                                                                 http://localhost:8080/tienda1/miembros/salir.jsp\n",
      "58660                                                                                                                                                                                                                                                               http://localhost:8080/tienda1/publico/vaciar.jsp\n",
      "23163                                                                                                                                                                                                                                                                http://localhost:8080/tienda1/publico/pagar.jsp\n",
      "                                                                                                                                                            ...                                                                                                                                                     \n",
      "12010                                                                                                                                                                                                                                                                 http://localhost:8080/tienda1/global/menum.jsp\n",
      "21489                                                                                                                                                                                                                                                                   http://localhost:8080/tienda1/imagenes/1.gif\n",
      "60365    http://localhost:8080/tienda1/miembros/editar.jsp?modo=registro&login=ukena0&password=alu43961543t0&nombre=Brunno&apellidos=Mazuecos+Sard%E0&emailA=edmonson.higham%40forohh.gob&dni=13053296Z&direccion=C%2F+Venus%2C+115%2C+&ciudad=Albelda&cp=15579&provincia=Valencia&ntc=1156001562245535&B1=Registrar\n",
      "4901                                                                                                                                                                                                                                                                http://localhost:8080/tienda1/publico/anadir.jsp\n",
      "9907                                                                                                                                                                                                                                                            http://localhost:8080/tienda1/publico/autenticar.jsp\n",
      "Name: URL, Length: 45814, dtype: object 38049                                                                                                                                                                                                                                                           http://localhost:8080/tienda1/publico/autenticar.jsp\n",
      "5983                                                                                                                                                                                                                                                            http://localhost:8080/tienda1/publico/autenticar.jsp\n",
      "43018                                                                                                                                                                                                                                                      http://localhost:8080/tienda1/publico/caracteristicas.jsp\n",
      "54887    http://localhost:8080/tienda1/miembros/editar.jsp?modo=registro&login=nady&password=9va3831&nombre=Shirley&apellidos=Urbaez+Mariangel&email=erlich-jarrel%40modeloscaninos.ni&dni=39759775C&direccion=Algarrobo+197+3%3FF&ciudad=Navalonguilla&cp=0379A&provincia=Segovia&ntc=5083698855321760&B1=Registrar\n",
      "57273                                                                                                                                                                                                                                                               http://localhost:8080/tienda1/publico/vaciar.jsp\n",
      "                                                                                                                                                            ...                                                                                                                                                     \n",
      "2304                                                                                                                                                                                                                                                              http://localhost:8080/tienda1/imagenes/cmenbul.gif\n",
      "22127                                                                                                                                                                                                                                                                http://localhost:8080/tienda1/global/titulo.jsp\n",
      "23812                                                                                                                                                                                                                                                            http://localhost:8080/tienda1/publico/productos.jsp\n",
      "57530            http://localhost:8080/tienda1/miembros/editar.jsp?modo=registro&login=simser&password=Canj4l9n&nombre=Kimberley&apellidos=Romaso&email=partsalev%40easyviaggio.web&dni=A%270A5223S&direccion=Calle+Alfonso+Paso+143+&ciudad=Constantina&cp=42138&provincia=Lleida&ntc=9910614404544138&B1=Registrar\n",
      "41898                                                                                                                                                                 http://localhost:8080/tienda1/publico/pagar.jsp?modo=any%250D%250ASet-cookie%253A%2BTamper%253D5765205567234876235&precio=20&B1=Pasar+por+caja\n",
      "Name: URL, Length: 9163, dtype: object 29533                                                                         http://localhost:8080/tienda1/publico/miembros.jsp\n",
      "20641                                                                         http://localhost:8080/tienda1/publico/miembros.jsp\n",
      "54451                                                                            http://localhost:8080/tienda1/publico/pagar.jsp\n",
      "17286    http://localhost:8080/tienda1/publico/autenticar.jsp?modo=entrar&login=guillory&pwd=Arme%21LlUElA&remember=on&B1=Entrar\n",
      "30944                                                                           http://localhost:8080/tienda1/publico/vaciar.jsp\n",
      "                                                                  ...                                                           \n",
      "22922                                                                  http://localhost:8080/tienda1/miembros/imagenes/ogono.jpg\n",
      "43076                                    http://localhost:8080/tienda1/publico/pagar.jsp?modo=insertar&precio=%257C&B1=Confirmar\n",
      "11272       http://localhost:8080/tienda1/publico/anadir.jsp?id=1&nombre=Vino+Rioja&precio=85&cantidad=47&B1=A%F1adir+al+carrito\n",
      "55247                                                                  http://localhost:8080/tienda1/publico/caracteristicas.jsp\n",
      "1039                                                                            http://localhost:8080/tienda1/miembros/fotos.jsp\n",
      "Name: URL, Length: 6109, dtype: object\n"
     ]
    }
   ],
   "execution_count": 116
  },
  {
   "metadata": {
    "ExecuteTime": {
     "end_time": "2024-10-29T03:33:51.913810Z",
     "start_time": "2024-10-29T03:33:51.910279Z"
    }
   },
   "cell_type": "code",
   "source": [
    "print('X_train shape', X_train.shape)\n",
    "print('y_train shape', y_train.shape)\n",
    "\n",
    "print('X_val shape', X_val.shape)\n",
    "print('y_val shape', y_val.shape)\n",
    "\n",
    "print('X_test shape', X_test.shape)\n",
    "print('y_test shape', y_test.shape)"
   ],
   "outputs": [
    {
     "name": "stdout",
     "output_type": "stream",
     "text": [
      "X_train shape (45814,)\n",
      "y_train shape (45814,)\n",
      "X_val shape (9163,)\n",
      "y_val shape (9163,)\n",
      "X_test shape (6109,)\n",
      "y_test shape (6109,)\n"
     ]
    }
   ],
   "execution_count": 117
  },
  {
   "metadata": {
    "ExecuteTime": {
     "end_time": "2024-10-29T03:34:31.830248Z",
     "start_time": "2024-10-29T03:34:31.824204Z"
    }
   },
   "cell_type": "code",
   "source": [
    "test_data = pd.concat([X_test, y_test], axis=1)\n",
    "test_data = pd.DataFrame(test_data)\n",
    "test_data.head()"
   ],
   "outputs": [
    {
     "data": {
      "text/plain": [
       "                                                                                                                           URL  \\\n",
       "29533                                                                       http://localhost:8080/tienda1/publico/miembros.jsp   \n",
       "20641                                                                       http://localhost:8080/tienda1/publico/miembros.jsp   \n",
       "54451                                                                          http://localhost:8080/tienda1/publico/pagar.jsp   \n",
       "17286  http://localhost:8080/tienda1/publico/autenticar.jsp?modo=entrar&login=guillory&pwd=Arme%21LlUElA&remember=on&B1=Entrar   \n",
       "30944                                                                         http://localhost:8080/tienda1/publico/vaciar.jsp   \n",
       "\n",
       "       Target  \n",
       "29533       0  \n",
       "20641       0  \n",
       "54451       1  \n",
       "17286       0  \n",
       "30944       0  "
      ],
      "text/html": [
       "<div>\n",
       "<style scoped>\n",
       "    .dataframe tbody tr th:only-of-type {\n",
       "        vertical-align: middle;\n",
       "    }\n",
       "\n",
       "    .dataframe tbody tr th {\n",
       "        vertical-align: top;\n",
       "    }\n",
       "\n",
       "    .dataframe thead th {\n",
       "        text-align: right;\n",
       "    }\n",
       "</style>\n",
       "<table border=\"1\" class=\"dataframe\">\n",
       "  <thead>\n",
       "    <tr style=\"text-align: right;\">\n",
       "      <th></th>\n",
       "      <th>URL</th>\n",
       "      <th>Target</th>\n",
       "    </tr>\n",
       "  </thead>\n",
       "  <tbody>\n",
       "    <tr>\n",
       "      <th>29533</th>\n",
       "      <td>http://localhost:8080/tienda1/publico/miembros.jsp</td>\n",
       "      <td>0</td>\n",
       "    </tr>\n",
       "    <tr>\n",
       "      <th>20641</th>\n",
       "      <td>http://localhost:8080/tienda1/publico/miembros.jsp</td>\n",
       "      <td>0</td>\n",
       "    </tr>\n",
       "    <tr>\n",
       "      <th>54451</th>\n",
       "      <td>http://localhost:8080/tienda1/publico/pagar.jsp</td>\n",
       "      <td>1</td>\n",
       "    </tr>\n",
       "    <tr>\n",
       "      <th>17286</th>\n",
       "      <td>http://localhost:8080/tienda1/publico/autenticar.jsp?modo=entrar&amp;login=guillory&amp;pwd=Arme%21LlUElA&amp;remember=on&amp;B1=Entrar</td>\n",
       "      <td>0</td>\n",
       "    </tr>\n",
       "    <tr>\n",
       "      <th>30944</th>\n",
       "      <td>http://localhost:8080/tienda1/publico/vaciar.jsp</td>\n",
       "      <td>0</td>\n",
       "    </tr>\n",
       "  </tbody>\n",
       "</table>\n",
       "</div>"
      ]
     },
     "execution_count": 126,
     "metadata": {},
     "output_type": "execute_result"
    }
   ],
   "execution_count": 126
  },
  {
   "metadata": {
    "ExecuteTime": {
     "end_time": "2024-10-29T03:34:32.549903Z",
     "start_time": "2024-10-29T03:34:32.547521Z"
    }
   },
   "cell_type": "code",
   "source": "",
   "outputs": [],
   "execution_count": null
  },
  {
   "metadata": {
    "ExecuteTime": {
     "end_time": "2024-10-29T03:34:33.174256Z",
     "start_time": "2024-10-29T03:34:33.151521Z"
    }
   },
   "cell_type": "code",
   "source": [
    "# \n",
    "test_data.to_csv('Dataset/cisc_database/test_data.csv', index=False)\n"
   ],
   "outputs": [],
   "execution_count": 127
  },
  {
   "cell_type": "code",
   "metadata": {
    "id": "RTtR_qwyU4Eu",
    "ExecuteTime": {
     "end_time": "2024-10-29T03:34:33.695253Z",
     "start_time": "2024-10-29T03:34:33.692582Z"
    }
   },
   "source": [
    "#URL decode\n",
    "import urllib.parse\n",
    "def url_decode(encoded_URL):\n",
    "  return urllib.parse.unquote(encoded_URL)"
   ],
   "outputs": [],
   "execution_count": 128
  },
  {
   "cell_type": "code",
   "metadata": {
    "id": "AXQxLqKmLh61",
    "ExecuteTime": {
     "end_time": "2024-10-29T03:34:56.761393Z",
     "start_time": "2024-10-29T03:34:56.755405Z"
    }
   },
   "source": [
    "def load_data(urls, max_length=1000):\n",
    "    print(urls[3600])\n",
    "    urls = [s.lower() for s in urls]\n",
    "    url_list = []\n",
    "    for url in urls:\n",
    "        # url decode\n",
    "        decoded_url = url_decode(url)\n",
    "        # unicode encode\n",
    "        encoded_url = [ord(x) for x in str(decoded_url).strip()]\n",
    "        encoded_url = encoded_url[:max_length]\n",
    "        url_len = len(encoded_url)\n",
    "        if url_len < max_length:\n",
    "            # zero padding\n",
    "            encoded_url += ([0] * (max_length - url_len))\n",
    "        url_list.append((encoded_url))\n",
    "    # convert to numpy array\n",
    "    print(urls[3600])\n",
    "    url_list = np.array(url_list)\n",
    "    return url_list"
   ],
   "outputs": [],
   "execution_count": 131
  },
  {
   "cell_type": "code",
   "metadata": {
    "id": "iW_3RamYLphx",
    "ExecuteTime": {
     "end_time": "2024-10-29T03:34:59.178524Z",
     "start_time": "2024-10-29T03:34:57.276862Z"
    }
   },
   "source": [
    "train_data = load_data(X_train)\n",
    "val_data = load_data(X_val)\n",
    "test_data = load_data(X_test)"
   ],
   "outputs": [
    {
     "name": "stdout",
     "output_type": "stream",
     "text": [
      "http://localhost:8080/tienda1/publico/pagar.jsp?modo=insertar&precio=1599&b1=confirmar%252b\n",
      "http://localhost:8080/tienda1/publico/pagar.jsp?modo=insertar&precio=1599&b1=confirmar%252b\n",
      "http://localhost:8080/tienda1/publico/caracteristicas.jsp?ida=2\n",
      "http://localhost:8080/tienda1/publico/caracteristicas.jsp?ida=2\n",
      "http://localhost:8080/tienda1/miembros/editar.jsp\n",
      "http://localhost:8080/tienda1/miembros/editar.jsp\n"
     ]
    }
   ],
   "execution_count": 132
  },
  {
   "cell_type": "code",
   "metadata": {
    "id": "OWKde8CaJw91",
    "colab": {
     "base_uri": "https://localhost:8080/"
    },
    "outputId": "81adceda-97e8-46ed-ce77-c23dd1735171",
    "ExecuteTime": {
     "end_time": "2024-10-29T03:33:54.222642Z",
     "start_time": "2024-10-29T03:33:54.219097Z"
    }
   },
   "source": [
    "print(train_data)\n",
    "print(val_data)\n",
    "print(test_data)"
   ],
   "outputs": [
    {
     "name": "stdout",
     "output_type": "stream",
     "text": [
      "[[104 116 116 ...   0   0   0]\n",
      " [104 116 116 ...   0   0   0]\n",
      " [104 116 116 ...   0   0   0]\n",
      " ...\n",
      " [104 116 116 ...   0   0   0]\n",
      " [104 116 116 ...   0   0   0]\n",
      " [104 116 116 ...   0   0   0]]\n",
      "[[104 116 116 ...   0   0   0]\n",
      " [104 116 116 ...   0   0   0]\n",
      " [104 116 116 ...   0   0   0]\n",
      " ...\n",
      " [104 116 116 ...   0   0   0]\n",
      " [104 116 116 ...   0   0   0]\n",
      " [104 116 116 ...   0   0   0]]\n",
      "[[104 116 116 ...   0   0   0]\n",
      " [104 116 116 ...   0   0   0]\n",
      " [104 116 116 ...   0   0   0]\n",
      " ...\n",
      " [104 116 116 ...   0   0   0]\n",
      " [104 116 116 ...   0   0   0]\n",
      " [104 116 116 ...   0   0   0]]\n"
     ]
    }
   ],
   "execution_count": 123
  },
  {
   "cell_type": "code",
   "metadata": {
    "id": "htkiNenQJK9Q",
    "ExecuteTime": {
     "end_time": "2024-10-29T03:24:51.723652600Z",
     "start_time": "2024-10-28T17:27:22.125097Z"
    }
   },
   "source": [
    "def create_label(labels):\n",
    "  class_list = [x for x in labels]\n",
    "  classes = np.array(class_list)\n",
    "  return classes"
   ],
   "outputs": [],
   "execution_count": 39
  },
  {
   "cell_type": "code",
   "metadata": {
    "id": "ZpCq1g3tolPd",
    "ExecuteTime": {
     "end_time": "2024-10-29T03:24:51.723652600Z",
     "start_time": "2024-10-28T17:27:22.188118Z"
    }
   },
   "source": [
    "train_classes = create_label(y_train)\n",
    "val_classes = create_label(y_val)\n",
    "test_classes = create_label(y_test)"
   ],
   "outputs": [],
   "execution_count": 40
  },
  {
   "cell_type": "code",
   "metadata": {
    "id": "S4CZChOrYT_D",
    "colab": {
     "base_uri": "https://localhost:8080/"
    },
    "outputId": "3f9494b6-f1e6-464b-e74d-564d2b545026",
    "ExecuteTime": {
     "end_time": "2024-10-29T03:24:51.723652600Z",
     "start_time": "2024-10-28T17:27:22.236891Z"
    }
   },
   "source": [
    "print(train_classes)\n",
    "print(val_classes)\n",
    "print(test_classes)"
   ],
   "outputs": [
    {
     "name": "stdout",
     "output_type": "stream",
     "text": [
      "[0 1 0 ... 1 0 0]\n",
      "[1 0 1 ... 0 1 1]\n",
      "[0 0 1 ... 0 1 0]\n"
     ]
    }
   ],
   "execution_count": 41
  },
  {
   "cell_type": "markdown",
   "metadata": {
    "id": "P77ahKXc0lo9"
   },
   "source": [
    "## Model Architecture\n",
    "\n",
    "1. **Input Layer**: 1000 characters\n",
    "2. **Embedding Layer**: 128 dimensions\n",
    "3. **Convolution Layer 1**: \n",
    "   - Kernel size = K\n",
    "   - Number of filters = 64\n",
    "   - Activation = ReLU\n",
    "4. **Max Pooling Layer 1**: \n",
    "   - Kernel size = K\n",
    "5. **Convolution Layer 2**: \n",
    "   - Kernel size = K\n",
    "   - Number of filters = 64\n",
    "   - Activation = ReLU\n",
    "6. **Max Pooling Layer 2**: \n",
    "   - Kernel size = size of Convolution Layer 2's output\n",
    "7. **Concatenate Output & Reshape**: 64-length vector\n",
    "8. **Fully Connected Layer (FCN)**: \n",
    "   - 64 units\n",
    "   - Activation = ReLU\n",
    "9. **Batch Normalization**\n",
    "10. **Dropout**: 0.5\n",
    "11. **Fully Connected Layer (Output Layer)**: \n",
    "   - 1 unit\n",
    "   - Activation = Sigmoid\n",
    "\n",
    "**Loss Function**: `binary_crossentropy`\n"
   ]
  },
  {
   "cell_type": "code",
   "metadata": {
    "id": "2TyhzcjsL7wd",
    "ExecuteTime": {
     "end_time": "2024-10-29T03:24:51.723652600Z",
     "start_time": "2024-10-28T17:27:22.295256Z"
    }
   },
   "source": [
    "def create_model(input_max_size, embedding_size, kernel_sizes, dropout):\n",
    "\n",
    "  # Input Layer\n",
    "  # URLdecode -> Unicode encode -> npumpy.darray\n",
    "  inputs = Input(shape=(input_max_size,), name='URL_input')\n",
    "\n",
    "  # Embedding Layer\n",
    "  x = Embedding(0xffff, embedding_size, name='Embedding')(inputs)\n",
    "  x = Reshape((input_max_size, embedding_size), name='Reshape_into_128_legnth_vector')(x)\n",
    "\n",
    "  # Convolution Layers\n",
    "  convolution_output = []\n",
    "\n",
    "  for kernel_size in kernel_sizes:\n",
    "    conv1 = Conv1D(64, kernel_size, activation='relu', padding='same', strides=1)(x)\n",
    "    pool1 = MaxPool1D(pool_size=kernel_size, padding='same', strides=1)(conv1)\n",
    "    conv2 = Conv1D(64, kernel_size, activation='relu', padding='same', strides=1)(pool1)\n",
    "    pool2 = GlobalMaxPooling1D()(conv2)\n",
    "    convolution_output.append(pool2)\n",
    "\n",
    "  # concat output\n",
    "  x = Concatenate(name='Concat_the_outputs')(convolution_output)\n",
    "\n",
    "  # reshape into 256 length vector\n",
    "  x = Reshape((256, ), name='Reshape_into_256_length_vector')(x)\n",
    "\n",
    "  # Fully Connected Layers\n",
    "  x = Dense(64, activation='relu', name='FullyConnectedLayer')(x)\n",
    "\n",
    "  # Batch Normalization\n",
    "  x = BatchNormalization()(x)\n",
    "\n",
    "  # DropOut\n",
    "  x = Dropout(dropout)(x)\n",
    "\n",
    "  # Fully Connected Layers\n",
    "  predictions = Dense(1, activation='sigmoid', name='Prediction')(x)\n",
    "\n",
    "  model = Model(inputs=inputs, outputs=predictions, name='Character-level_CNN')\n",
    "\n",
    "  return model"
   ],
   "outputs": [],
   "execution_count": 42
  },
  {
   "metadata": {
    "ExecuteTime": {
     "end_time": "2024-10-29T03:24:51.724680300Z",
     "start_time": "2024-10-28T17:27:22.350356Z"
    }
   },
   "cell_type": "code",
   "source": [
    "# def create_model(input_max_size, embedding_size, kernel_size, dropout):\n",
    "#   \n",
    "#   # Input Layer\n",
    "#   inputs = Input(shape=(input_max_size,), name='URL_input')\n",
    "#   \n",
    "#   # Embedding Layer\n",
    "#   x = Embedding(256, embedding_size, name='Embedding')(inputs)\n",
    "#   x = Reshape((input_max_size, embedding_size), name='Reshape_into_128_length_vector')(x)\n",
    "#   \n",
    "#   # Convolution Layer Block\n",
    "#   conv1 = Conv1D(64, kernel_size, activation='relu', padding='same', strides=1)(x)\n",
    "#   pool1 = MaxPool1D(pool_size=kernel_size, padding='same', strides=1)(conv1)\n",
    "#   \n",
    "#   conv2 = Conv1D(64, kernel_size, activation='relu', padding='same', strides=1)(pool1)\n",
    "#   pool2 = MaxPool1D(pool_size=pool1.shape[1], padding='same', strides=1)(conv2)\n",
    "#   \n",
    "#   # Reshape and Concatenate Output\n",
    "#   x = Flatten()(pool2)\n",
    "#   x = Dense(64, activation='relu', name='FullyConnectedLayer')(x)\n",
    "#   \n",
    "#   # Batch Normalization\n",
    "#   x = BatchNormalization()(x)\n",
    "#   \n",
    "#   # DropOut\n",
    "#   x = Dropout(dropout)(x)\n",
    "#   \n",
    "#   # Output Layer\n",
    "#   predictions = Dense(1, activation='sigmoid', name='Prediction')(x)\n",
    "#   \n",
    "#   model = Model(inputs=inputs, outputs=predictions, name='Character-level_CNN_Model_A')\n",
    "#   \n",
    "#   return model"
   ],
   "outputs": [],
   "execution_count": 43
  },
  {
   "cell_type": "code",
   "metadata": {
    "id": "CVK2iZ7WV8BL",
    "ExecuteTime": {
     "end_time": "2024-10-29T03:24:51.724680300Z",
     "start_time": "2024-10-28T17:27:22.405174Z"
    }
   },
   "source": [
    "# config\n",
    "learning_rate = 0.0042\n",
    "epochs = 200\n",
    "# lr_schedule = tf.keras.optimizers.schedules.ExponentialDecay(\n",
    "#     initial_learning_rate=learning_rate,\n",
    "#     decay_steps=10000,\n",
    "#     decay_rate=0.9,\n",
    "#     staircase=True\n",
    "# )\n",
    "lr_schedule = tf.keras.callbacks.ReduceLROnPlateau(\n",
    "    monitor='val_loss', \n",
    "    factor=0.2, \n",
    "    patience=5, \n",
    "    min_lr=1e-6)\n",
    "\n",
    "input_max_size = 1000\n",
    "embedding_size = 128\n",
    "kernel_sizes = [4,5,6,7]\n",
    "# kernel_sizes = 7\n",
    "dropout = 0.5\n",
    "\n",
    "loss = 'binary_crossentropy'\n",
    "optimizer = 'Nadam'\n",
    "\n",
    "batch_size = 128\n",
    "\n",
    "# Initialize wandb and pass the variables\n",
    "wandb.init(project=\"BaoMatWeb\", config={\n",
    "    \"learning_rate\": learning_rate,\n",
    "    \"epochs\": epochs,\n",
    "    \"input_max_size\": input_max_size,\n",
    "    \"embedding_size\": embedding_size,\n",
    "    \"kernel_sizes\": kernel_sizes,\n",
    "    \"dropout\": dropout,\n",
    "    \"loss\": loss,\n",
    "    \"optimizer\": optimizer,\n",
    "    \"batch_size\": batch_size\n",
    "})\n",
    "\n",
    "\n"
   ],
   "outputs": [
    {
     "data": {
      "text/plain": [
       "<IPython.core.display.HTML object>"
      ],
      "text/html": [
       "Tracking run with wandb version 0.18.5"
      ]
     },
     "metadata": {},
     "output_type": "display_data"
    },
    {
     "data": {
      "text/plain": [
       "<IPython.core.display.HTML object>"
      ],
      "text/html": [
       "Run data is saved locally in <code>/mnt/d/truongC/HK5/BaoMatWeb/proj/CNN/wandb/run-20241029_002722-oxih2ifh</code>"
      ]
     },
     "metadata": {},
     "output_type": "display_data"
    },
    {
     "data": {
      "text/plain": [
       "<IPython.core.display.HTML object>"
      ],
      "text/html": [
       "Syncing run <strong><a href='https://wandb.ai/Do_An_UIT/BaoMatWeb/runs/oxih2ifh' target=\"_blank\">glorious-meadow-25</a></strong> to <a href='https://wandb.ai/Do_An_UIT/BaoMatWeb' target=\"_blank\">Weights & Biases</a> (<a href='https://wandb.me/run' target=\"_blank\">docs</a>)<br/>"
      ]
     },
     "metadata": {},
     "output_type": "display_data"
    },
    {
     "data": {
      "text/plain": [
       "<IPython.core.display.HTML object>"
      ],
      "text/html": [
       " View project at <a href='https://wandb.ai/Do_An_UIT/BaoMatWeb' target=\"_blank\">https://wandb.ai/Do_An_UIT/BaoMatWeb</a>"
      ]
     },
     "metadata": {},
     "output_type": "display_data"
    },
    {
     "data": {
      "text/plain": [
       "<IPython.core.display.HTML object>"
      ],
      "text/html": [
       " View run at <a href='https://wandb.ai/Do_An_UIT/BaoMatWeb/runs/oxih2ifh' target=\"_blank\">https://wandb.ai/Do_An_UIT/BaoMatWeb/runs/oxih2ifh</a>"
      ]
     },
     "metadata": {},
     "output_type": "display_data"
    },
    {
     "data": {
      "text/html": [
       "<button onClick=\"this.nextSibling.style.display='block';this.style.display='none';\">Display W&B run</button><iframe src='https://wandb.ai/Do_An_UIT/BaoMatWeb/runs/oxih2ifh?jupyter=true' style='border:none;width:100%;height:420px;display:none;'></iframe>"
      ],
      "text/plain": [
       "<wandb.sdk.wandb_run.Run at 0x7ffe7f7a29b0>"
      ]
     },
     "execution_count": 44,
     "metadata": {},
     "output_type": "execute_result"
    }
   ],
   "execution_count": 44
  },
  {
   "metadata": {
    "ExecuteTime": {
     "end_time": "2024-10-29T03:24:51.724680300Z",
     "start_time": "2024-10-28T17:27:23.423439Z"
    }
   },
   "cell_type": "code",
   "source": "",
   "outputs": [],
   "execution_count": null
  },
  {
   "metadata": {
    "ExecuteTime": {
     "end_time": "2024-10-29T03:24:51.725760600Z",
     "start_time": "2024-10-28T17:27:23.470518Z"
    }
   },
   "cell_type": "code",
   "source": [
    "model_filepath = 'saved_model/model' \n",
    "checkpoint_filepath = 'logs/checkpoint' "
   ],
   "outputs": [],
   "execution_count": 45
  },
  {
   "metadata": {
    "ExecuteTime": {
     "end_time": "2024-10-29T03:24:51.725760600Z",
     "start_time": "2024-10-28T17:27:23.548600Z"
    }
   },
   "cell_type": "code",
   "source": [
    "from tensorflow.keras.callbacks import Callback  # Ensure Callback is imported\n",
    "\n",
    "class WandbCallback(Callback):\n",
    "    def on_epoch_end(self, epoch, logs=None):\n",
    "        # Log the metrics to WandB\n",
    "        wandb.log({\n",
    "            \"val_accuracy\": logs.get(\"val_accuracy\"),\n",
    "            \"val_loss\": logs.get(\"val_loss\"),\n",
    "            \"val_precision\": logs.get(\"val_precision\"),\n",
    "            \"val_recall\": logs.get(\"val_recall\")\n",
    "        })"
   ],
   "outputs": [],
   "execution_count": 46
  },
  {
   "cell_type": "code",
   "metadata": {
    "id": "CdMKFjA2Ab2H",
    "ExecuteTime": {
     "end_time": "2024-10-29T03:24:51.725760600Z",
     "start_time": "2024-10-28T17:27:23.612354Z"
    }
   },
   "source": [
    "from tensorflow.keras.callbacks import EarlyStopping\n",
    "\n",
    "def train(learning_rate, input_max_size, embedding_size, kernel_sizes, dropout, loss, optimizer, train_data, train_classes, epochs, batch_size, val_data, val_classes, model_filepath):\n",
    "\n",
    "    \n",
    "\n",
    "    start = learning_rate\n",
    "    stop = learning_rate * 0.01\n",
    "    learning_rates = np.linspace(start, stop, epochs)\n",
    "\n",
    "    model = create_model(input_max_size, embedding_size, kernel_sizes, dropout)\n",
    "    # Changed 'lr' to 'learning_rate'\n",
    "    optimizer = optimizers.Nadam(learning_rate=learning_rate, weight_decay= 1e-2, use_ema= True)\n",
    "    model.compile(loss=loss,\n",
    "                  optimizer=optimizer,\n",
    "                  metrics=['accuracy', Precision(), Recall(), 'binary_accuracy'])\n",
    "\n",
    "    tf_callback = TensorBoard(log_dir=\"logs\", histogram_freq=1)\n",
    "    # Updated checkpoint_filepath to end with .weights.h5\n",
    "    checkpoint_filepath = 'logs/checkpoint' + '.weights.h5'\n",
    "    model_checkpoint_callback = tf.keras.callbacks.ModelCheckpoint(\n",
    "        filepath=checkpoint_filepath,\n",
    "        save_weights_only=True,\n",
    "        monitor='val_accuracy',\n",
    "        mode='max',\n",
    "        save_best_only=True\n",
    "        )\n",
    "    early_stopping = EarlyStopping(\n",
    "    monitor='val_loss',  # Metric to monitor\n",
    "    patience=10,          # Number of epochs with no improvement after which training will be stopped\n",
    "    restore_best_weights=True  # Restore model weights from the epoch with the best value of the monitored quantity\n",
    ")\n",
    "\n",
    "    with tf.device('/GPU:0'):\n",
    "\n",
    "        history = model.fit(train_data, train_classes,\n",
    "                  epochs=epochs,\n",
    "                  batch_size=batch_size,\n",
    "                  verbose=2,\n",
    "                  validation_data=(val_data, val_classes),\n",
    "                  callbacks=[model_checkpoint_callback, WandbCallback(), early_stopping]\n",
    "                  )\n",
    "\n",
    "    model.save(model_filepath + '.h5')\n",
    "    model.save_weights(model_filepath + '.weights.h5')\n",
    "    return model"
   ],
   "outputs": [],
   "execution_count": 47
  },
  {
   "cell_type": "code",
   "metadata": {
    "id": "uBGjddN6BIuZ",
    "colab": {
     "base_uri": "https://localhost:8080/"
    },
    "outputId": "bab8d7ba-042e-4234-ffb2-9d6be44a3e62",
    "ExecuteTime": {
     "end_time": "2024-10-29T03:24:51.725760600Z",
     "start_time": "2024-10-28T17:27:23.664583Z"
    }
   },
   "source": "saved_model = train(learning_rate, input_max_size, embedding_size, kernel_sizes, dropout, loss, optimizer, train_data, train_classes, epochs, batch_size, val_data, val_classes, model_filepath)",
   "outputs": [
    {
     "name": "stderr",
     "output_type": "stream",
     "text": [
      "I0000 00:00:1730136443.669121    1477 gpu_device.cc:2022] Created device /job:localhost/replica:0/task:0/device:GPU:0 with 3586 MB memory:  -> device: 0, name: NVIDIA GeForce RTX 3060 Laptop GPU, pci bus id: 0000:01:00.0, compute capability: 8.6\n"
     ]
    },
    {
     "name": "stdout",
     "output_type": "stream",
     "text": [
      "Epoch 1/200\n"
     ]
    },
    {
     "name": "stderr",
     "output_type": "stream",
     "text": [
      "WARNING: All log messages before absl::InitializeLog() is called are written to STDERR\n",
      "I0000 00:00:1730136447.321813    1655 service.cc:148] XLA service 0x1078a400 initialized for platform CUDA (this does not guarantee that XLA will be used). Devices:\n",
      "I0000 00:00:1730136447.322211    1655 service.cc:156]   StreamExecutor device (0): NVIDIA GeForce RTX 3060 Laptop GPU, Compute Capability 8.6\n",
      "2024-10-29 00:27:27.400371: I tensorflow/compiler/mlir/tensorflow/utils/dump_mlir_util.cc:268] disabling MLIR crash reproducer, set env var `MLIR_CRASH_REPRODUCER_DIRECTORY` to enable.\n",
      "I0000 00:00:1730136447.649067    1655 cuda_dnn.cc:529] Loaded cuDNN version 90300\n",
      "2024-10-29 00:27:34.100613: E external/local_xla/xla/service/slow_operation_alarm.cc:65] Trying algorithm eng60{k2=0,k5=2,k14=4} for conv (f32[128,128,1,1001]{3,2,1,0}, u8[0]{0}) custom-call(f32[128,64,1,1000]{3,2,1,0}, f32[64,128,1,6]{3,2,1,0}), window={size=1x6 pad=0_0x2_2}, dim_labels=bf01_oi01->bf01, custom_call_target=\"__cudnn$convBackwardInput\", backend_config={\"cudnn_conv_backend_config\":{\"activation_mode\":\"kNone\",\"conv_result_scale\":1,\"leakyrelu_alpha\":0,\"side_input_scale\":0},\"force_earliest_schedule\":false,\"operation_queue_id\":\"0\",\"wait_on_operation_queues\":[]} is taking a while...\n",
      "2024-10-29 00:27:34.101592: E external/local_xla/xla/service/slow_operation_alarm.cc:133] The operation took 2.944959808s\n",
      "Trying algorithm eng60{k2=0,k5=2,k14=4} for conv (f32[128,128,1,1001]{3,2,1,0}, u8[0]{0}) custom-call(f32[128,64,1,1000]{3,2,1,0}, f32[64,128,1,6]{3,2,1,0}), window={size=1x6 pad=0_0x2_2}, dim_labels=bf01_oi01->bf01, custom_call_target=\"__cudnn$convBackwardInput\", backend_config={\"cudnn_conv_backend_config\":{\"activation_mode\":\"kNone\",\"conv_result_scale\":1,\"leakyrelu_alpha\":0,\"side_input_scale\":0},\"force_earliest_schedule\":false,\"operation_queue_id\":\"0\",\"wait_on_operation_queues\":[]} is taking a while...\n",
      "I0000 00:00:1730136458.475459    1655 device_compiler.h:188] Compiled cluster using XLA!  This line is logged at most once for the lifetime of the process.\n"
     ]
    },
    {
     "name": "stdout",
     "output_type": "stream",
     "text": [
      "358/358 - 47s - 132ms/step - accuracy: 0.8261 - binary_accuracy: 0.8261 - loss: 0.3026 - precision: 0.7866 - recall: 0.7918 - val_accuracy: 0.4095 - val_binary_accuracy: 0.4095 - val_loss: 3.0379 - val_precision: 0.4095 - val_recall: 1.0000\n",
      "Epoch 2/200\n",
      "358/358 - 21s - 59ms/step - accuracy: 0.8474 - binary_accuracy: 0.8474 - loss: 0.2547 - precision: 0.8118 - recall: 0.8189 - val_accuracy: 0.8519 - val_binary_accuracy: 0.8519 - val_loss: 0.6290 - val_precision: 0.7363 - val_recall: 0.9944\n",
      "Epoch 3/200\n",
      "358/358 - 23s - 65ms/step - accuracy: 0.8525 - binary_accuracy: 0.8525 - loss: 0.2439 - precision: 0.8114 - recall: 0.8356 - val_accuracy: 0.8375 - val_binary_accuracy: 0.8375 - val_loss: 0.6030 - val_precision: 0.7162 - val_recall: 0.9989\n",
      "Epoch 4/200\n",
      "358/358 - 24s - 66ms/step - accuracy: 0.8498 - binary_accuracy: 0.8498 - loss: 0.2429 - precision: 0.8106 - recall: 0.8282 - val_accuracy: 0.8605 - val_binary_accuracy: 0.8605 - val_loss: 0.2734 - val_precision: 0.7506 - val_recall: 0.9875\n",
      "Epoch 5/200\n",
      "358/358 - 21s - 59ms/step - accuracy: 0.8530 - binary_accuracy: 0.8530 - loss: 0.2388 - precision: 0.8145 - recall: 0.8319 - val_accuracy: 0.8616 - val_binary_accuracy: 0.8616 - val_loss: 0.2416 - val_precision: 0.7509 - val_recall: 0.9907\n",
      "Epoch 6/200\n",
      "358/358 - 24s - 66ms/step - accuracy: 0.8547 - binary_accuracy: 0.8547 - loss: 0.2378 - precision: 0.8124 - recall: 0.8406 - val_accuracy: 0.8618 - val_binary_accuracy: 0.8618 - val_loss: 0.2337 - val_precision: 0.7530 - val_recall: 0.9861\n",
      "Epoch 7/200\n",
      "358/358 - 20s - 56ms/step - accuracy: 0.8525 - binary_accuracy: 0.8525 - loss: 0.2364 - precision: 0.8100 - recall: 0.8379 - val_accuracy: 0.8365 - val_binary_accuracy: 0.8365 - val_loss: 0.7395 - val_precision: 0.7151 - val_recall: 0.9987\n",
      "Epoch 8/200\n",
      "358/358 - 23s - 66ms/step - accuracy: 0.8541 - binary_accuracy: 0.8541 - loss: 0.2352 - precision: 0.8112 - recall: 0.8407 - val_accuracy: 0.8617 - val_binary_accuracy: 0.8617 - val_loss: 0.2854 - val_precision: 0.7518 - val_recall: 0.9888\n",
      "Epoch 9/200\n",
      "358/358 - 23s - 65ms/step - accuracy: 0.8551 - binary_accuracy: 0.8551 - loss: 0.2316 - precision: 0.8116 - recall: 0.8433 - val_accuracy: 0.8612 - val_binary_accuracy: 0.8612 - val_loss: 0.2690 - val_precision: 0.7525 - val_recall: 0.9848\n",
      "Epoch 10/200\n",
      "358/358 - 20s - 56ms/step - accuracy: 0.8578 - binary_accuracy: 0.8578 - loss: 0.2288 - precision: 0.8123 - recall: 0.8506 - val_accuracy: 0.8615 - val_binary_accuracy: 0.8615 - val_loss: 0.2340 - val_precision: 0.7524 - val_recall: 0.9864\n",
      "Epoch 11/200\n",
      "358/358 - 23s - 64ms/step - accuracy: 0.8563 - binary_accuracy: 0.8563 - loss: 0.2298 - precision: 0.8121 - recall: 0.8463 - val_accuracy: 0.8576 - val_binary_accuracy: 0.8576 - val_loss: 0.2956 - val_precision: 0.7447 - val_recall: 0.9925\n",
      "Epoch 12/200\n",
      "358/358 - 23s - 64ms/step - accuracy: 0.8572 - binary_accuracy: 0.8572 - loss: 0.2303 - precision: 0.8086 - recall: 0.8553 - val_accuracy: 0.8442 - val_binary_accuracy: 0.8442 - val_loss: 0.2335 - val_precision: 0.8873 - val_recall: 0.7095\n",
      "Epoch 13/200\n",
      "358/358 - 20s - 56ms/step - accuracy: 0.8571 - binary_accuracy: 0.8571 - loss: 0.2273 - precision: 0.8131 - recall: 0.8473 - val_accuracy: 0.8614 - val_binary_accuracy: 0.8614 - val_loss: 0.2718 - val_precision: 0.7511 - val_recall: 0.9893\n",
      "Epoch 14/200\n",
      "358/358 - 23s - 66ms/step - accuracy: 0.8580 - binary_accuracy: 0.8580 - loss: 0.2263 - precision: 0.8143 - recall: 0.8480 - val_accuracy: 0.8613 - val_binary_accuracy: 0.8613 - val_loss: 0.3777 - val_precision: 0.7518 - val_recall: 0.9872\n",
      "Epoch 15/200\n",
      "358/358 - 20s - 56ms/step - accuracy: 0.8599 - binary_accuracy: 0.8599 - loss: 0.2261 - precision: 0.8139 - recall: 0.8548 - val_accuracy: 0.8280 - val_binary_accuracy: 0.8280 - val_loss: 0.4065 - val_precision: 0.9986 - val_recall: 0.5808\n",
      "Epoch 16/200\n",
      "358/358 - 24s - 66ms/step - accuracy: 0.8597 - binary_accuracy: 0.8597 - loss: 0.2231 - precision: 0.8139 - recall: 0.8542 - val_accuracy: 0.8622 - val_binary_accuracy: 0.8622 - val_loss: 0.2446 - val_precision: 0.7520 - val_recall: 0.9899\n",
      "Epoch 17/200\n",
      "358/358 - 23s - 64ms/step - accuracy: 0.8560 - binary_accuracy: 0.8560 - loss: 0.2244 - precision: 0.8114 - recall: 0.8466 - val_accuracy: 0.8617 - val_binary_accuracy: 0.8617 - val_loss: 0.2334 - val_precision: 0.7515 - val_recall: 0.9896\n",
      "Epoch 18/200\n",
      "358/358 - 21s - 59ms/step - accuracy: 0.8607 - binary_accuracy: 0.8607 - loss: 0.2230 - precision: 0.8134 - recall: 0.8580 - val_accuracy: 0.8624 - val_binary_accuracy: 0.8624 - val_loss: 0.2812 - val_precision: 0.7527 - val_recall: 0.9888\n",
      "Epoch 19/200\n",
      "358/358 - 23s - 65ms/step - accuracy: 0.8609 - binary_accuracy: 0.8609 - loss: 0.2220 - precision: 0.8131 - recall: 0.8593 - val_accuracy: 0.8611 - val_binary_accuracy: 0.8611 - val_loss: 0.3446 - val_precision: 0.7498 - val_recall: 0.9915\n",
      "Epoch 20/200\n",
      "358/358 - 24s - 68ms/step - accuracy: 0.8567 - binary_accuracy: 0.8567 - loss: 0.2275 - precision: 0.8127 - recall: 0.8466 - val_accuracy: 0.8648 - val_binary_accuracy: 0.8648 - val_loss: 0.2259 - val_precision: 0.8109 - val_recall: 0.8734\n",
      "Epoch 21/200\n",
      "358/358 - 20s - 56ms/step - accuracy: 0.8609 - binary_accuracy: 0.8609 - loss: 0.2230 - precision: 0.8137 - recall: 0.8582 - val_accuracy: 0.8598 - val_binary_accuracy: 0.8598 - val_loss: 0.2290 - val_precision: 0.7481 - val_recall: 0.9912\n",
      "Epoch 22/200\n",
      "358/358 - 23s - 64ms/step - accuracy: 0.8588 - binary_accuracy: 0.8588 - loss: 0.2245 - precision: 0.8068 - recall: 0.8635 - val_accuracy: 0.8314 - val_binary_accuracy: 0.8314 - val_loss: 0.2943 - val_precision: 0.9960 - val_recall: 0.5906\n",
      "Epoch 23/200\n",
      "358/358 - 23s - 64ms/step - accuracy: 0.8577 - binary_accuracy: 0.8577 - loss: 0.2228 - precision: 0.8087 - recall: 0.8567 - val_accuracy: 0.8618 - val_binary_accuracy: 0.8618 - val_loss: 0.3162 - val_precision: 0.7509 - val_recall: 0.9915\n",
      "Epoch 24/200\n",
      "358/358 - 20s - 56ms/step - accuracy: 0.8596 - binary_accuracy: 0.8596 - loss: 0.2222 - precision: 0.8107 - recall: 0.8592 - val_accuracy: 0.8312 - val_binary_accuracy: 0.8312 - val_loss: 0.2321 - val_precision: 0.9960 - val_recall: 0.5901\n",
      "Epoch 25/200\n",
      "358/358 - 23s - 66ms/step - accuracy: 0.8586 - binary_accuracy: 0.8586 - loss: 0.2233 - precision: 0.8116 - recall: 0.8546 - val_accuracy: 0.8638 - val_binary_accuracy: 0.8638 - val_loss: 0.2260 - val_precision: 0.7858 - val_recall: 0.9174\n",
      "Epoch 26/200\n",
      "358/358 - 20s - 56ms/step - accuracy: 0.8591 - binary_accuracy: 0.8591 - loss: 0.2225 - precision: 0.8095 - recall: 0.8597 - val_accuracy: 0.8611 - val_binary_accuracy: 0.8611 - val_loss: 0.2800 - val_precision: 0.7489 - val_recall: 0.9939\n",
      "Epoch 27/200\n",
      "358/358 - 23s - 64ms/step - accuracy: 0.8571 - binary_accuracy: 0.8571 - loss: 0.2234 - precision: 0.8070 - recall: 0.8576 - val_accuracy: 0.8318 - val_binary_accuracy: 0.8318 - val_loss: 0.2376 - val_precision: 0.9929 - val_recall: 0.5936\n",
      "Epoch 28/200\n",
      "358/358 - 39s - 109ms/step - accuracy: 0.8583 - binary_accuracy: 0.8583 - loss: 0.2229 - precision: 0.8072 - recall: 0.8611 - val_accuracy: 0.8636 - val_binary_accuracy: 0.8636 - val_loss: 0.2250 - val_precision: 0.7708 - val_recall: 0.9491\n",
      "Epoch 29/200\n",
      "358/358 - 23s - 64ms/step - accuracy: 0.8583 - binary_accuracy: 0.8583 - loss: 0.2245 - precision: 0.8101 - recall: 0.8560 - val_accuracy: 0.8624 - val_binary_accuracy: 0.8624 - val_loss: 0.2547 - val_precision: 0.7527 - val_recall: 0.9888\n",
      "Epoch 30/200\n",
      "358/358 - 20s - 56ms/step - accuracy: 0.8601 - binary_accuracy: 0.8601 - loss: 0.2199 - precision: 0.8084 - recall: 0.8647 - val_accuracy: 0.8622 - val_binary_accuracy: 0.8622 - val_loss: 0.2323 - val_precision: 0.7529 - val_recall: 0.9875\n",
      "Epoch 31/200\n",
      "358/358 - 23s - 64ms/step - accuracy: 0.8597 - binary_accuracy: 0.8597 - loss: 0.2228 - precision: 0.8129 - recall: 0.8558 - val_accuracy: 0.8293 - val_binary_accuracy: 0.8293 - val_loss: 0.3967 - val_precision: 0.9977 - val_recall: 0.5845\n",
      "Epoch 32/200\n",
      "358/358 - 23s - 64ms/step - accuracy: 0.8610 - binary_accuracy: 0.8610 - loss: 0.2237 - precision: 0.8136 - recall: 0.8586 - val_accuracy: 0.8308 - val_binary_accuracy: 0.8308 - val_loss: 0.3760 - val_precision: 0.9973 - val_recall: 0.5885\n",
      "Epoch 33/200\n",
      "358/358 - 20s - 56ms/step - accuracy: 0.8595 - binary_accuracy: 0.8595 - loss: 0.2234 - precision: 0.8106 - recall: 0.8591 - val_accuracy: 0.8317 - val_binary_accuracy: 0.8317 - val_loss: 0.3599 - val_precision: 0.9964 - val_recall: 0.5912\n",
      "Epoch 34/200\n",
      "358/358 - 23s - 64ms/step - accuracy: 0.8579 - binary_accuracy: 0.8579 - loss: 0.2239 - precision: 0.8078 - recall: 0.8590 - val_accuracy: 0.8624 - val_binary_accuracy: 0.8624 - val_loss: 0.3369 - val_precision: 0.7522 - val_recall: 0.9901\n",
      "Epoch 35/200\n",
      "358/358 - 43s - 119ms/step - accuracy: 0.8589 - binary_accuracy: 0.8589 - loss: 0.2251 - precision: 0.8145 - recall: 0.8505 - val_accuracy: 0.8558 - val_binary_accuracy: 0.8558 - val_loss: 0.5469 - val_precision: 0.7411 - val_recall: 0.9957\n",
      "Epoch 36/200\n",
      "358/358 - 23s - 64ms/step - accuracy: 0.8591 - binary_accuracy: 0.8591 - loss: 0.2247 - precision: 0.8133 - recall: 0.8532 - val_accuracy: 0.8617 - val_binary_accuracy: 0.8617 - val_loss: 0.2833 - val_precision: 0.7507 - val_recall: 0.9917\n",
      "Epoch 37/200\n",
      "358/358 - 20s - 56ms/step - accuracy: 0.8589 - binary_accuracy: 0.8589 - loss: 0.2270 - precision: 0.8118 - recall: 0.8550 - val_accuracy: 0.8322 - val_binary_accuracy: 0.8322 - val_loss: 0.2410 - val_precision: 0.9969 - val_recall: 0.5920\n",
      "Epoch 38/200\n",
      "358/358 - 23s - 64ms/step - accuracy: 0.8602 - binary_accuracy: 0.8602 - loss: 0.2239 - precision: 0.8117 - recall: 0.8592 - val_accuracy: 0.8329 - val_binary_accuracy: 0.8329 - val_loss: 0.2506 - val_precision: 0.9964 - val_recall: 0.5941\n"
     ]
    },
    {
     "name": "stderr",
     "output_type": "stream",
     "text": [
      "WARNING:absl:You are saving your model as an HDF5 file via `model.save()` or `keras.saving.save_model(model)`. This file format is considered legacy. We recommend using instead the native Keras format, e.g. `model.save('my_model.keras')` or `keras.saving.save_model(model, 'my_model.keras')`. \n"
     ]
    }
   ],
   "execution_count": 48
  },
  {
   "cell_type": "code",
   "source": [
    "# import plotly.express as px\n",
    "# # Tạo biểu đồ\n",
    "# fig = px.line(x=range(len(val_acc)), y=val_acc, labels={'x': 'Epoch', 'y': 'Validation Accuracy'}, title='Validation Accuracy')\n",
    "# fig.show()"
   ],
   "metadata": {
    "id": "TrEWT9GEhwFC",
    "ExecuteTime": {
     "end_time": "2024-10-29T03:24:51.725760600Z",
     "start_time": "2024-10-28T17:42:30.935229Z"
    }
   },
   "outputs": [],
   "execution_count": 49
  },
  {
   "metadata": {
    "ExecuteTime": {
     "end_time": "2024-10-29T03:24:51.743770400Z",
     "start_time": "2024-10-28T17:42:30.999542Z"
    }
   },
   "cell_type": "code",
   "source": [
    "# # Tạo biểu đồ\n",
    "# fig = px.line(x=range(len(val_loss)), y=val_loss, labels={'x': 'Epoch', 'y': 'Validation Loss'}, title='Validation Loss')\n",
    "# fig.show()"
   ],
   "outputs": [],
   "execution_count": 50
  },
  {
   "metadata": {
    "ExecuteTime": {
     "end_time": "2024-10-29T03:24:51.744714600Z",
     "start_time": "2024-10-28T17:42:31.051850Z"
    }
   },
   "cell_type": "code",
   "source": [
    "# import plotly.express as px\n",
    "# # Tạo biểu đồ\n",
    "# fig = px.line(x=range(len(val_recall)), y=val_recall, labels={'x': 'Epoch', 'y': 'Validation Recall'}, title='Validation recall')\n",
    "# fig.show()"
   ],
   "outputs": [],
   "execution_count": 51
  },
  {
   "metadata": {
    "ExecuteTime": {
     "end_time": "2024-10-29T03:24:51.744714600Z",
     "start_time": "2024-10-28T17:42:31.101733Z"
    }
   },
   "cell_type": "code",
   "source": [
    "# import plotly.express as px\n",
    "# # Tạo biểu đồ\n",
    "# fig = px.line(x=range(len(val_precision)), y=val_precision, labels={'x': 'Epoch', 'y': 'Validation Precision'}, title='Validation Precision')\n",
    "# fig.show()"
   ],
   "outputs": [],
   "execution_count": 52
  },
  {
   "metadata": {
    "ExecuteTime": {
     "end_time": "2024-10-29T03:24:51.744714600Z",
     "start_time": "2024-10-28T17:42:31.151360Z"
    }
   },
   "cell_type": "code",
   "source": [
    "# import plotly.express as px\n",
    "# # Tạo biểu đồ\n",
    "# val_f1 = [2*(a*b)/(a+b) for a,b in zip(val_precision,val_recall)]\n",
    "# fig = px.line(x=range(len(val_f1)), y=val_f1, labels={'x': 'Epoch', 'y': 'Validation F1'}, title='Validation F1')\n",
    "# fig.show()"
   ],
   "outputs": [],
   "execution_count": 53
  },
  {
   "cell_type": "code",
   "metadata": {
    "id": "NLAu_1PYLAnI",
    "ExecuteTime": {
     "end_time": "2024-10-29T03:24:51.745653400Z",
     "start_time": "2024-10-28T17:42:31.201980Z"
    }
   },
   "source": [
    "from keras.models import Model, load_model\n",
    "\n",
    "model_filepath = 'saved_model/model'\n",
    "model = load_model(model_filepath+'.h5')"
   ],
   "outputs": [
    {
     "name": "stderr",
     "output_type": "stream",
     "text": [
      "WARNING:absl:Compiled the loaded model, but the compiled metrics have yet to be built. `model.compile_metrics` will be empty until you train or evaluate the model.\n",
      "WARNING:absl:Error in loading the saved optimizer state. As a result, your model is starting with a freshly initialized optimizer.\n"
     ]
    }
   ],
   "execution_count": 54
  },
  {
   "metadata": {
    "ExecuteTime": {
     "end_time": "2024-10-29T03:24:51.745653400Z",
     "start_time": "2024-10-28T17:42:31.457741Z"
    }
   },
   "cell_type": "code",
   "source": [
    "import numpy as np\n",
    "import pandas as pd\n",
    "from pwnlib.term.readline import history\n",
    "from sklearn.model_selection import train_test_split\n",
    "from sklearn.metrics import roc_curve, auc\n",
    "from tensorflow.keras.metrics import Precision, Recall\n",
    "import tensorflow as tf\n",
    "from tensorflow.keras.preprocessing.text import Tokenizer # Import Tokenizer from tensorflow.keras.preprocessing.text\n",
    "from tensorflow.keras.callbacks import TensorBoard\n",
    "import keras\n",
    "from keras.models import Model, load_model\n",
    "from tensorflow.keras.layers import BatchNormalization, Input, Embedding, Dense, Dropout, Flatten, Conv1D, MaxPool1D, Add, Reshape, Concatenate, GlobalMaxPooling1D # Removed 'normalization', 'merge'\n",
    "from keras.layers import Normalization # Import Normalization from keras.layers\n",
    "from keras.utils import plot_model, to_categorical # Removed np_utils, to_categorical is sufficient\n",
    "from keras.preprocessing import sequence\n",
    "from keras import optimizers\n",
    "\n",
    "def load_data(urls, max_length=1000):\n",
    "    urls = [s.lower() for s in urls]\n",
    "    url_list = []\n",
    "    for url in urls:\n",
    "        # url decode\n",
    "        decoded_url = url_decode(url)\n",
    "        # unicode encode\n",
    "        encoded_url = [ord(x) for x in str(decoded_url).strip()]\n",
    "        encoded_url = encoded_url[:max_length]\n",
    "        url_len = len(encoded_url)\n",
    "        if url_len < max_length:\n",
    "            # zero padding\n",
    "            encoded_url += ([0] * (max_length - url_len))\n",
    "        url_list.append((encoded_url))\n",
    "    # convert to numpy array\n",
    "    url_list = np.array(url_list)\n",
    "    return url_list\n",
    "\n",
    "url = [\"http://localhost:8080/sqli.php?input=%27or+1%3D1%3B--\",\"http://127.0.0.1:8080/favico.ico\", \"http://localhost:8080/tienda1/login/index.php\",\"http://localhost:8080/tienda1.BAK\", \"http://localhost:8080/tienda1/publico/autenticar.jsp\", \"http://localhost:8080/tienda1/miembros/imagenes/zarauz.jpg\"]\n",
    "\n",
    "prediction = model.predict(load_data(url))\n",
    "\n",
    "\n",
    "\n",
    "print(prediction)\n"
   ],
   "outputs": [
    {
     "name": "stdout",
     "output_type": "stream",
     "text": [
      "\u001B[1m1/1\u001B[0m \u001B[32m━━━━━━━━━━━━━━━━━━━━\u001B[0m\u001B[37m\u001B[0m \u001B[1m1s\u001B[0m 810ms/step\n",
      "[[0.99979323]\n",
      " [0.00670491]\n",
      " [0.12484346]\n",
      " [0.9996044 ]\n",
      " [0.5814888 ]\n",
      " [0.00135562]]\n"
     ]
    }
   ],
   "execution_count": 55
  },
  {
   "cell_type": "code",
   "metadata": {
    "id": "jTcdqhq3SHP5",
    "ExecuteTime": {
     "end_time": "2024-10-29T03:24:51.745653400Z",
     "start_time": "2024-10-28T17:42:32.323882Z"
    }
   },
   "source": [
    "results = model.evaluate(test_data, test_classes, verbose=2)\n",
    "test_loss = results[0]\n",
    "test_accuracy = results[1]  # Adjust based on metric order\n",
    "test_precision = results[2]\n",
    "test_recall = results[3]\n",
    "\n",
    "\n",
    "wandb.log({\n",
    "            \"test_loss\": test_loss,\n",
    "            \"test_accuracy\": test_accuracy,\n",
    "            \"test_precision\":test_precision,\n",
    "            \"test_recall\": test_recall\n",
    "        })\n"
   ],
   "outputs": [
    {
     "name": "stdout",
     "output_type": "stream",
     "text": [
      "191/191 - 3s - 14ms/step - accuracy: 0.8623 - binary_accuracy: 0.8623 - loss: 0.2194 - precision: 0.7681 - recall: 0.9454\n"
     ]
    }
   ],
   "execution_count": 56
  },
  {
   "metadata": {
    "ExecuteTime": {
     "end_time": "2024-10-29T03:24:51.745653400Z",
     "start_time": "2024-10-28T17:42:35.191129Z"
    }
   },
   "cell_type": "code",
   "source": [
    "import wandb\n",
    "wandb.finish()"
   ],
   "outputs": [
    {
     "data": {
      "text/plain": [
       "<IPython.core.display.HTML object>"
      ],
      "text/html": [
       "<style>\n",
       "    table.wandb td:nth-child(1) { padding: 0 10px; text-align: left ; width: auto;} td:nth-child(2) {text-align: left ; width: 100%}\n",
       "    .wandb-row { display: flex; flex-direction: row; flex-wrap: wrap; justify-content: flex-start; width: 100% }\n",
       "    .wandb-col { display: flex; flex-direction: column; flex-basis: 100%; flex: 1; padding: 10px; }\n",
       "    </style>\n",
       "<div class=\"wandb-row\"><div class=\"wandb-col\"><h3>Run history:</h3><br/><table class=\"wandb\"><tr><td>test_accuracy</td><td>▁</td></tr><tr><td>test_loss</td><td>▁</td></tr><tr><td>test_precision</td><td>▁</td></tr><tr><td>test_recall</td><td>▁</td></tr><tr><td>val_accuracy</td><td>▁█████████████▇██████▇█▇██▇███▇▇▇███▇█</td></tr><tr><td>val_loss</td><td>█▂▂▁▁▁▂▁▁▁▁▁▁▁▁▁▁▁▁▁▁▁▁▁▁▁▁▁▁▁▁▁▁▁▂▁▁▁</td></tr><tr><td>val_precision</td><td>▁▅▅▅▅▅▅▅▅▅▅▇▅▅█▅▅▅▅▆▅█▅█▅▅█▅▅▅███▅▅▅██</td></tr><tr><td>val_recall</td><td>███████████▃██▁████▆█▁█▁▇█▁▇██▁▁▁███▁▁</td></tr></table><br/></div><div class=\"wandb-col\"><h3>Run summary:</h3><br/><table class=\"wandb\"><tr><td>test_accuracy</td><td>0.86233</td></tr><tr><td>test_loss</td><td>0.21945</td></tr><tr><td>test_precision</td><td>0.76814</td></tr><tr><td>test_recall</td><td>0.94543</td></tr><tr><td>val_accuracy</td><td>0.83292</td></tr><tr><td>val_loss</td><td>0.25056</td></tr><tr><td>val_precision</td><td>0.99642</td></tr><tr><td>val_recall</td><td>0.59408</td></tr></table><br/></div></div>"
      ]
     },
     "metadata": {},
     "output_type": "display_data"
    },
    {
     "data": {
      "text/plain": [
       "<IPython.core.display.HTML object>"
      ],
      "text/html": [
       " View run <strong style=\"color:#cdcd00\">glorious-meadow-25</strong> at: <a href='https://wandb.ai/Do_An_UIT/BaoMatWeb/runs/oxih2ifh' target=\"_blank\">https://wandb.ai/Do_An_UIT/BaoMatWeb/runs/oxih2ifh</a><br/> View project at: <a href='https://wandb.ai/Do_An_UIT/BaoMatWeb' target=\"_blank\">https://wandb.ai/Do_An_UIT/BaoMatWeb</a><br/>Synced 5 W&B file(s), 0 media file(s), 0 artifact file(s) and 0 other file(s)"
      ]
     },
     "metadata": {},
     "output_type": "display_data"
    },
    {
     "data": {
      "text/plain": [
       "<IPython.core.display.HTML object>"
      ],
      "text/html": [
       "Find logs at: <code>./wandb/run-20241029_002722-oxih2ifh/logs</code>"
      ]
     },
     "metadata": {},
     "output_type": "display_data"
    }
   ],
   "execution_count": 57
  }
 ]
}
