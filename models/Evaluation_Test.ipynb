{
 "nbformat": 4,
 "nbformat_minor": 0,
 "metadata": {
  "accelerator": "GPU",
  "colab": {
   "name": "Evaluation-Test",
   "provenance": [],
   "collapsed_sections": []
  },
  "kernelspec": {
   "display_name": "Python 3 (ipykernel)",
   "name": "python3",
   "language": "python"
  }
 },
 "cells": [
  {
   "cell_type": "code",
   "metadata": {
    "id": "pIdUEPUMc3oB",
    "ExecuteTime": {
     "end_time": "2024-10-28T12:53:49.550221Z",
     "start_time": "2024-10-28T12:53:49.547291Z"
    }
   },
   "source": [
    "import os\n",
    "os.environ[\"TF_ENABLE_ONEDNN_OPTS\"] = \"0\""
   ],
   "outputs": [],
   "execution_count": 1
  },
  {
   "metadata": {
    "ExecuteTime": {
     "end_time": "2024-10-28T12:53:51.507464Z",
     "start_time": "2024-10-28T12:53:49.556413Z"
    }
   },
   "cell_type": "code",
   "source": [
    "import numpy as np\n",
    "import pandas as pd\n",
    "import matplotlib.pyplot as plt\n",
    "from IPython.core.tests.test_formatters import test_precision\n",
    "from sklearn.model_selection import train_test_split\n",
    "from sklearn.metrics import roc_curve, auc, accuracy_score\n",
    "from tensorflow.keras.metrics import Precision, Recall\n",
    "\n",
    "import datetime\n",
    "import json\n",
    "from os import write\n",
    "import re\n",
    "import subprocess\n",
    "import urllib.parse\n",
    "from markupsafe import escape\n",
    "from flask import (Flask, Response, make_response, render_template,\n",
    "                   request)\n",
    "from werkzeug.routing import BaseConverter\n",
    "import numpy as np\n",
    "from keras.models import load_model\n",
    "\n",
    "from keras import backend as K\n",
    "import urllib.parse\n",
    "import pprint\n",
    "import time\n",
    "from sklearn.metrics import confusion_matrix\n",
    "from sklearn.metrics import *"
   ],
   "outputs": [
    {
     "name": "stderr",
     "output_type": "stream",
     "text": [
      "2024-10-28 19:53:49.969596: E external/local_xla/xla/stream_executor/cuda/cuda_fft.cc:477] Unable to register cuFFT factory: Attempting to register factory for plugin cuFFT when one has already been registered\n",
      "WARNING: All log messages before absl::InitializeLog() is called are written to STDERR\n",
      "E0000 00:00:1730120029.982747   80691 cuda_dnn.cc:8310] Unable to register cuDNN factory: Attempting to register factory for plugin cuDNN when one has already been registered\n",
      "E0000 00:00:1730120029.987684   80691 cuda_blas.cc:1418] Unable to register cuBLAS factory: Attempting to register factory for plugin cuBLAS when one has already been registered\n",
      "2024-10-28 19:53:50.001621: I tensorflow/core/platform/cpu_feature_guard.cc:210] This TensorFlow binary is optimized to use available CPU instructions in performance-critical operations.\n",
      "To enable the following instructions: AVX2 AVX_VNNI FMA, in other operations, rebuild TensorFlow with the appropriate compiler flags.\n"
     ]
    }
   ],
   "execution_count": 2
  },
  {
   "cell_type": "code",
   "metadata": {
    "colab": {
     "base_uri": "https://localhost:8080/",
     "height": 197
    },
    "id": "HkvgoE0vdRdH",
    "outputId": "ad49851b-4192-40c6-d8be-98eb01e93631",
    "ExecuteTime": {
     "end_time": "2024-10-28T12:53:51.710531Z",
     "start_time": "2024-10-28T12:53:51.688245Z"
    }
   },
   "source": [
    "df = pd.read_csv('Dataset/cisc_database/test_data.csv')\n",
    "df.head()"
   ],
   "outputs": [
    {
     "data": {
      "text/plain": [
       "                                                 URL  Target\n",
       "0       http://localhost:8080/tienda1/imagenes/3.gif       0\n",
       "1  http://localhost:8080/tienda1/publico/autentic...       0\n",
       "2  http://localhost:8080/tienda1/publico/anadir.j...       1\n",
       "3  http://localhost:8080/tienda1/publico/carrito.jsp       0\n",
       "4  http://localhost:8080/tienda1/imagenes/nuestra...       0"
      ],
      "text/html": [
       "<div>\n",
       "<style scoped>\n",
       "    .dataframe tbody tr th:only-of-type {\n",
       "        vertical-align: middle;\n",
       "    }\n",
       "\n",
       "    .dataframe tbody tr th {\n",
       "        vertical-align: top;\n",
       "    }\n",
       "\n",
       "    .dataframe thead th {\n",
       "        text-align: right;\n",
       "    }\n",
       "</style>\n",
       "<table border=\"1\" class=\"dataframe\">\n",
       "  <thead>\n",
       "    <tr style=\"text-align: right;\">\n",
       "      <th></th>\n",
       "      <th>URL</th>\n",
       "      <th>Target</th>\n",
       "    </tr>\n",
       "  </thead>\n",
       "  <tbody>\n",
       "    <tr>\n",
       "      <th>0</th>\n",
       "      <td>http://localhost:8080/tienda1/imagenes/3.gif</td>\n",
       "      <td>0</td>\n",
       "    </tr>\n",
       "    <tr>\n",
       "      <th>1</th>\n",
       "      <td>http://localhost:8080/tienda1/publico/autentic...</td>\n",
       "      <td>0</td>\n",
       "    </tr>\n",
       "    <tr>\n",
       "      <th>2</th>\n",
       "      <td>http://localhost:8080/tienda1/publico/anadir.j...</td>\n",
       "      <td>1</td>\n",
       "    </tr>\n",
       "    <tr>\n",
       "      <th>3</th>\n",
       "      <td>http://localhost:8080/tienda1/publico/carrito.jsp</td>\n",
       "      <td>0</td>\n",
       "    </tr>\n",
       "    <tr>\n",
       "      <th>4</th>\n",
       "      <td>http://localhost:8080/tienda1/imagenes/nuestra...</td>\n",
       "      <td>0</td>\n",
       "    </tr>\n",
       "  </tbody>\n",
       "</table>\n",
       "</div>"
      ]
     },
     "execution_count": 3,
     "metadata": {},
     "output_type": "execute_result"
    }
   ],
   "execution_count": 3
  },
  {
   "metadata": {
    "ExecuteTime": {
     "end_time": "2024-10-28T12:53:51.745084Z",
     "start_time": "2024-10-28T12:53:51.742792Z"
    }
   },
   "cell_type": "code",
   "source": [
    "# unique_labels = df['Target'].unique()\n",
    "# print (unique_labels)\n",
    "# # ??????"
   ],
   "outputs": [],
   "execution_count": 4
  },
  {
   "cell_type": "code",
   "metadata": {
    "colab": {
     "base_uri": "https://localhost:8080/",
     "height": 197
    },
    "id": "-ghjtBAmf7d1",
    "outputId": "89a5c2da-d961-4966-a083-46d43b8e6fcc",
    "ExecuteTime": {
     "end_time": "2024-10-28T12:53:51.815672Z",
     "start_time": "2024-10-28T12:53:51.790400Z"
    }
   },
   "source": [
    "evaluation = pd.read_csv('Dataset/cisc_database/test_data.csv')\n",
    "evaluation.head()"
   ],
   "outputs": [
    {
     "data": {
      "text/plain": [
       "                                                 URL  Target\n",
       "0       http://localhost:8080/tienda1/imagenes/3.gif       0\n",
       "1  http://localhost:8080/tienda1/publico/autentic...       0\n",
       "2  http://localhost:8080/tienda1/publico/anadir.j...       1\n",
       "3  http://localhost:8080/tienda1/publico/carrito.jsp       0\n",
       "4  http://localhost:8080/tienda1/imagenes/nuestra...       0"
      ],
      "text/html": [
       "<div>\n",
       "<style scoped>\n",
       "    .dataframe tbody tr th:only-of-type {\n",
       "        vertical-align: middle;\n",
       "    }\n",
       "\n",
       "    .dataframe tbody tr th {\n",
       "        vertical-align: top;\n",
       "    }\n",
       "\n",
       "    .dataframe thead th {\n",
       "        text-align: right;\n",
       "    }\n",
       "</style>\n",
       "<table border=\"1\" class=\"dataframe\">\n",
       "  <thead>\n",
       "    <tr style=\"text-align: right;\">\n",
       "      <th></th>\n",
       "      <th>URL</th>\n",
       "      <th>Target</th>\n",
       "    </tr>\n",
       "  </thead>\n",
       "  <tbody>\n",
       "    <tr>\n",
       "      <th>0</th>\n",
       "      <td>http://localhost:8080/tienda1/imagenes/3.gif</td>\n",
       "      <td>0</td>\n",
       "    </tr>\n",
       "    <tr>\n",
       "      <th>1</th>\n",
       "      <td>http://localhost:8080/tienda1/publico/autentic...</td>\n",
       "      <td>0</td>\n",
       "    </tr>\n",
       "    <tr>\n",
       "      <th>2</th>\n",
       "      <td>http://localhost:8080/tienda1/publico/anadir.j...</td>\n",
       "      <td>1</td>\n",
       "    </tr>\n",
       "    <tr>\n",
       "      <th>3</th>\n",
       "      <td>http://localhost:8080/tienda1/publico/carrito.jsp</td>\n",
       "      <td>0</td>\n",
       "    </tr>\n",
       "    <tr>\n",
       "      <th>4</th>\n",
       "      <td>http://localhost:8080/tienda1/imagenes/nuestra...</td>\n",
       "      <td>0</td>\n",
       "    </tr>\n",
       "  </tbody>\n",
       "</table>\n",
       "</div>"
      ]
     },
     "execution_count": 5,
     "metadata": {},
     "output_type": "execute_result"
    }
   ],
   "execution_count": 5
  },
  {
   "cell_type": "code",
   "metadata": {
    "id": "qUywHfSjAwu9",
    "ExecuteTime": {
     "end_time": "2024-10-28T12:53:54.560899Z",
     "start_time": "2024-10-28T12:53:51.882092Z"
    }
   },
   "source": "model = load_model('saved_model/model.h5')",
   "outputs": [
    {
     "name": "stderr",
     "output_type": "stream",
     "text": [
      "I0000 00:00:1730120032.262350   80691 gpu_device.cc:2022] Created device /job:localhost/replica:0/task:0/device:GPU:0 with 3586 MB memory:  -> device: 0, name: NVIDIA GeForce RTX 3060 Laptop GPU, pci bus id: 0000:01:00.0, compute capability: 8.6\n",
      "WARNING:absl:Compiled the loaded model, but the compiled metrics have yet to be built. `model.compile_metrics` will be empty until you train or evaluate the model.\n",
      "WARNING:absl:Error in loading the saved optimizer state. As a result, your model is starting with a freshly initialized optimizer.\n"
     ]
    }
   ],
   "execution_count": 6
  },
  {
   "metadata": {
    "id": "DWIcwTHsfg6k",
    "ExecuteTime": {
     "end_time": "2024-10-28T12:53:54.606195Z",
     "start_time": "2024-10-28T12:53:54.599037Z"
    }
   },
   "cell_type": "code",
   "source": [
    "with open(\"waf/denylist.txt\") as f:\n",
    "  denylist = [s.strip() for s in f.readlines()]"
   ],
   "outputs": [],
   "execution_count": 7
  },
  {
   "cell_type": "code",
   "metadata": {
    "id": "j21MFi3ueAGS",
    "ExecuteTime": {
     "end_time": "2024-10-28T12:53:54.634133Z",
     "start_time": "2024-10-28T12:53:54.631581Z"
    }
   },
   "source": [
    "# 定義済みのシグネチャを参照したパターンマッチング\n",
    "def signature(url):  \n",
    "  path = url.strip()[22:]\n",
    "  for val in denylist:\n",
    "    m = re.match(val, path, re.IGNORECASE)\n",
    "    if m != None :\n",
    "      return 1\n",
    "  return 0"
   ],
   "outputs": [],
   "execution_count": 8
  },
  {
   "cell_type": "code",
   "metadata": {
    "id": "UzO23VLTiDWg",
    "ExecuteTime": {
     "end_time": "2024-10-28T12:53:54.680198Z",
     "start_time": "2024-10-28T12:53:54.677697Z"
    }
   },
   "source": [
    "import urllib.parse\n",
    "def url_decode(encoded_URL):\n",
    "  return urllib.parse.unquote(encoded_URL)"
   ],
   "outputs": [],
   "execution_count": 9
  },
  {
   "cell_type": "code",
   "metadata": {
    "id": "RCxgBjbqiJ2t",
    "ExecuteTime": {
     "end_time": "2024-10-28T12:53:54.732103Z",
     "start_time": "2024-10-28T12:53:54.728893Z"
    }
   },
   "source": [
    "def load_data(urls, max_length=1000):\n",
    "    urls = [s.lower() for s in urls]\n",
    "    url_list = []\n",
    "    for url in urls:\n",
    "        # url decode\n",
    "        decoded_url = url_decode(url)\n",
    "        # unicode encode\n",
    "        encoded_url = [ord(x) for x in str(decoded_url).strip()]\n",
    "        encoded_url = encoded_url[:max_length]\n",
    "        url_len = len(encoded_url)\n",
    "        if url_len < max_length:\n",
    "            # zero padding\n",
    "            encoded_url += ([0] * (max_length - url_len))\n",
    "        url_list.append((encoded_url))\n",
    "    # convert to numpy array\n",
    "    url_list = np.array(url_list)\n",
    "    return url_list"
   ],
   "outputs": [],
   "execution_count": 10
  },
  {
   "cell_type": "code",
   "metadata": {
    "id": "M0njIb2KiMrY",
    "ExecuteTime": {
     "end_time": "2024-10-28T12:53:54.781469Z",
     "start_time": "2024-10-28T12:53:54.778933Z"
    }
   },
   "source": [
    "def create_label(labels):\n",
    "  class_list = [x for x in labels]\n",
    "  classes = np.array(class_list)\n",
    "  return classes"
   ],
   "outputs": [],
   "execution_count": 11
  },
  {
   "cell_type": "code",
   "metadata": {
    "id": "ZSvKwVlMi2Az",
    "ExecuteTime": {
     "end_time": "2024-10-28T12:53:54.831496Z",
     "start_time": "2024-10-28T12:53:54.828664Z"
    }
   },
   "source": [
    "X_test, y_test = df['URL'], df['Target']"
   ],
   "outputs": [],
   "execution_count": 12
  },
  {
   "cell_type": "code",
   "metadata": {
    "id": "zcdmbaPHiO85",
    "ExecuteTime": {
     "end_time": "2024-10-28T12:53:55.057895Z",
     "start_time": "2024-10-28T12:53:54.878453Z"
    }
   },
   "source": [
    "test_data = load_data(X_test)"
   ],
   "outputs": [],
   "execution_count": 13
  },
  {
   "cell_type": "code",
   "metadata": {
    "colab": {
     "base_uri": "https://localhost:8080/"
    },
    "id": "B385PrCYiR2p",
    "outputId": "ebc787b8-40cb-4e71-c88a-7b1bb7fe4272",
    "ExecuteTime": {
     "end_time": "2024-10-28T12:53:55.086711Z",
     "start_time": "2024-10-28T12:53:55.083716Z"
    }
   },
   "source": [
    "print(test_data)"
   ],
   "outputs": [
    {
     "name": "stdout",
     "output_type": "stream",
     "text": [
      "[[104 116 116 ...   0   0   0]\n",
      " [104 116 116 ...   0   0   0]\n",
      " [104 116 116 ...   0   0   0]\n",
      " ...\n",
      " [104 116 116 ...   0   0   0]\n",
      " [104 116 116 ...   0   0   0]\n",
      " [104 116 116 ...   0   0   0]]\n"
     ]
    }
   ],
   "execution_count": 14
  },
  {
   "cell_type": "code",
   "metadata": {
    "id": "kANuFRDeiTuo",
    "ExecuteTime": {
     "end_time": "2024-10-28T12:53:55.134504Z",
     "start_time": "2024-10-28T12:53:55.131676Z"
    }
   },
   "source": [
    "test_classes = create_label(y_test)"
   ],
   "outputs": [],
   "execution_count": 15
  },
  {
   "cell_type": "code",
   "metadata": {
    "colab": {
     "base_uri": "https://localhost:8080/"
    },
    "id": "TtR6S6kKiVna",
    "outputId": "d471a33e-1f93-40dd-911c-00fccd8993be",
    "ExecuteTime": {
     "end_time": "2024-10-28T12:53:55.182104Z",
     "start_time": "2024-10-28T12:53:55.179633Z"
    }
   },
   "source": [
    "print(test_classes)"
   ],
   "outputs": [
    {
     "name": "stdout",
     "output_type": "stream",
     "text": [
      "[0 0 1 ... 0 0 1]\n"
     ]
    }
   ],
   "execution_count": 16
  },
  {
   "cell_type": "markdown",
   "metadata": {
    "id": "riRaDruyf4jr"
   },
   "source": [
    "# Evaluate"
   ]
  },
  {
   "cell_type": "code",
   "metadata": {
    "colab": {
     "base_uri": "https://localhost:8080/"
    },
    "id": "yBhZsGk3h9Wb",
    "outputId": "be193262-0f18-4f5d-e619-4263e518ef49",
    "ExecuteTime": {
     "end_time": "2024-10-28T12:53:57.565449Z",
     "start_time": "2024-10-28T12:53:55.233363Z"
    }
   },
   "source": [
    "test_results = model.evaluate(test_data, test_classes, verbose=2)\n",
    "\n",
    "test_loss = test_results[0]\n",
    "test_accuracy = test_results[1]\n",
    "test_precision = test_results[2]\n",
    "test_recall = test_results[3]\n",
    "print(\"test_loss: \", test_loss)\n",
    "print(\"test_accuracy: \", test_accuracy)\n",
    "print(\"test_precision: \", test_precision)\n",
    "print(\"test_recall: \", test_recall)\n",
    "#print(\"binary_accuracy: \", binary_accuracy)\n",
    "#print(\"categorical_accuracy:\", categorical_accuracy)"
   ],
   "outputs": [
    {
     "name": "stderr",
     "output_type": "stream",
     "text": [
      "WARNING: All log messages before absl::InitializeLog() is called are written to STDERR\n",
      "I0000 00:00:1730120035.724537   80763 service.cc:148] XLA service 0x7ffe44004560 initialized for platform CUDA (this does not guarantee that XLA will be used). Devices:\n",
      "I0000 00:00:1730120035.724586   80763 service.cc:156]   StreamExecutor device (0): NVIDIA GeForce RTX 3060 Laptop GPU, Compute Capability 8.6\n",
      "2024-10-28 19:53:55.746095: I tensorflow/compiler/mlir/tensorflow/utils/dump_mlir_util.cc:268] disabling MLIR crash reproducer, set env var `MLIR_CRASH_REPRODUCER_DIRECTORY` to enable.\n",
      "I0000 00:00:1730120035.786560   80763 cuda_dnn.cc:529] Loaded cuDNN version 90300\n",
      "I0000 00:00:1730120036.300165   80763 device_compiler.h:188] Compiled cluster using XLA!  This line is logged at most once for the lifetime of the process.\n"
     ]
    },
    {
     "name": "stdout",
     "output_type": "stream",
     "text": [
      "191/191 - 2s - 12ms/step - accuracy: 0.8644 - binary_accuracy: 0.8644 - loss: 0.2255 - precision: 0.7525 - recall: 0.9936\n",
      "test_loss:  0.22552479803562164\n",
      "test_accuracy:  0.8644179105758667\n",
      "test_precision:  0.7525144815444946\n",
      "test_recall:  0.9935613870620728\n"
     ]
    }
   ],
   "execution_count": 17
  },
  {
   "cell_type": "code",
   "metadata": {
    "id": "WKfp3Zu-eIaN",
    "ExecuteTime": {
     "end_time": "2024-10-28T12:53:57.592429Z",
     "start_time": "2024-10-28T12:53:57.589387Z"
    }
   },
   "source": [
    "def matching(urls):\n",
    "  y_match = []\n",
    "  for url in urls:\n",
    "    url = url.strip()[22:]\n",
    "    y_match.append(signature(url))\n",
    "  y_match = pd.Series(y_match)\n",
    "  return y_match"
   ],
   "outputs": [],
   "execution_count": 18
  },
  {
   "cell_type": "code",
   "metadata": {
    "colab": {
     "base_uri": "https://localhost:8080/"
    },
    "id": "JvzvgMrg7t0c",
    "outputId": "0e428dd5-e23f-45b4-d424-2487c875716c",
    "ExecuteTime": {
     "end_time": "2024-10-28T12:53:57.660583Z",
     "start_time": "2024-10-28T12:53:57.653182Z"
    }
   },
   "source": [
    "urls = evaluation['URL']\n",
    "urls"
   ],
   "outputs": [
    {
     "data": {
      "text/plain": [
       "0            http://localhost:8080/tienda1/imagenes/3.gif\n",
       "1       http://localhost:8080/tienda1/publico/autentic...\n",
       "2       http://localhost:8080/tienda1/publico/anadir.j...\n",
       "3       http://localhost:8080/tienda1/publico/carrito.jsp\n",
       "4       http://localhost:8080/tienda1/imagenes/nuestra...\n",
       "                              ...                        \n",
       "6102     http://localhost:8080/tienda1/publico/entrar.jsp\n",
       "6103    http://localhost:8080/tienda1/miembros/imagene...\n",
       "6104    http://localhost:8080/tienda1/miembros/imagene...\n",
       "6105    http://localhost:8080/tienda1/miembros/imagene...\n",
       "6106    http://localhost:8080/tienda1/publico/registro...\n",
       "Name: URL, Length: 6107, dtype: object"
      ]
     },
     "execution_count": 19,
     "metadata": {},
     "output_type": "execute_result"
    }
   ],
   "execution_count": 19
  },
  {
   "cell_type": "code",
   "metadata": {
    "colab": {
     "base_uri": "https://localhost:8080/"
    },
    "id": "UFoB3uyT72dT",
    "outputId": "5c936f93-230e-4486-db3f-43975420d208",
    "ExecuteTime": {
     "end_time": "2024-10-28T12:53:57.746188Z",
     "start_time": "2024-10-28T12:53:57.711340Z"
    }
   },
   "source": [
    "y_match = matching(urls)\n",
    "y_match"
   ],
   "outputs": [
    {
     "data": {
      "text/plain": [
       "0       0\n",
       "1       0\n",
       "2       0\n",
       "3       0\n",
       "4       0\n",
       "       ..\n",
       "6102    0\n",
       "6103    0\n",
       "6104    0\n",
       "6105    0\n",
       "6106    0\n",
       "Length: 6107, dtype: int64"
      ]
     },
     "execution_count": 20,
     "metadata": {},
     "output_type": "execute_result"
    }
   ],
   "execution_count": 20
  },
  {
   "cell_type": "code",
   "metadata": {
    "colab": {
     "base_uri": "https://localhost:8080/"
    },
    "id": "-T2pTWfO8Ewf",
    "outputId": "4f8ca29f-22f2-4ea6-8410-232ec52c3011",
    "ExecuteTime": {
     "end_time": "2024-10-28T12:53:57.783413Z",
     "start_time": "2024-10-28T12:53:57.780020Z"
    }
   },
   "source": [
    "# denylistで防げた数\n",
    "sum(y_match)"
   ],
   "outputs": [
    {
     "data": {
      "text/plain": [
       "20"
      ]
     },
     "execution_count": 21,
     "metadata": {},
     "output_type": "execute_result"
    }
   ],
   "execution_count": 21
  },
  {
   "cell_type": "code",
   "metadata": {
    "id": "TqP3g9h7k8yw",
    "colab": {
     "base_uri": "https://localhost:8080/"
    },
    "outputId": "033ffd1e-6713-4c76-abe8-bc4acc0fc495",
    "ExecuteTime": {
     "end_time": "2024-10-28T12:53:57.885637Z",
     "start_time": "2024-10-28T12:53:57.880202Z"
    }
   },
   "source": [
    "y_true = evaluation['Target']\n",
    "y_true"
   ],
   "outputs": [
    {
     "data": {
      "text/plain": [
       "0       0\n",
       "1       0\n",
       "2       1\n",
       "3       0\n",
       "4       0\n",
       "       ..\n",
       "6102    0\n",
       "6103    0\n",
       "6104    0\n",
       "6105    0\n",
       "6106    1\n",
       "Name: Target, Length: 6107, dtype: int64"
      ]
     },
     "execution_count": 22,
     "metadata": {},
     "output_type": "execute_result"
    }
   ],
   "execution_count": 22
  },
  {
   "cell_type": "code",
   "metadata": {
    "colab": {
     "base_uri": "https://localhost:8080/",
     "height": 197
    },
    "id": "7zXn-DpG9T29",
    "outputId": "270d5871-fdef-4cc6-f66d-c93ac9f25302",
    "ExecuteTime": {
     "end_time": "2024-10-28T12:53:58.026157Z",
     "start_time": "2024-10-28T12:53:58.020849Z"
    }
   },
   "source": [
    "evaluation['y_match'] = y_match\n",
    "evaluation.head()"
   ],
   "outputs": [
    {
     "data": {
      "text/plain": [
       "                                                 URL  Target  y_match\n",
       "0       http://localhost:8080/tienda1/imagenes/3.gif       0        0\n",
       "1  http://localhost:8080/tienda1/publico/autentic...       0        0\n",
       "2  http://localhost:8080/tienda1/publico/anadir.j...       1        0\n",
       "3  http://localhost:8080/tienda1/publico/carrito.jsp       0        0\n",
       "4  http://localhost:8080/tienda1/imagenes/nuestra...       0        0"
      ],
      "text/html": [
       "<div>\n",
       "<style scoped>\n",
       "    .dataframe tbody tr th:only-of-type {\n",
       "        vertical-align: middle;\n",
       "    }\n",
       "\n",
       "    .dataframe tbody tr th {\n",
       "        vertical-align: top;\n",
       "    }\n",
       "\n",
       "    .dataframe thead th {\n",
       "        text-align: right;\n",
       "    }\n",
       "</style>\n",
       "<table border=\"1\" class=\"dataframe\">\n",
       "  <thead>\n",
       "    <tr style=\"text-align: right;\">\n",
       "      <th></th>\n",
       "      <th>URL</th>\n",
       "      <th>Target</th>\n",
       "      <th>y_match</th>\n",
       "    </tr>\n",
       "  </thead>\n",
       "  <tbody>\n",
       "    <tr>\n",
       "      <th>0</th>\n",
       "      <td>http://localhost:8080/tienda1/imagenes/3.gif</td>\n",
       "      <td>0</td>\n",
       "      <td>0</td>\n",
       "    </tr>\n",
       "    <tr>\n",
       "      <th>1</th>\n",
       "      <td>http://localhost:8080/tienda1/publico/autentic...</td>\n",
       "      <td>0</td>\n",
       "      <td>0</td>\n",
       "    </tr>\n",
       "    <tr>\n",
       "      <th>2</th>\n",
       "      <td>http://localhost:8080/tienda1/publico/anadir.j...</td>\n",
       "      <td>1</td>\n",
       "      <td>0</td>\n",
       "    </tr>\n",
       "    <tr>\n",
       "      <th>3</th>\n",
       "      <td>http://localhost:8080/tienda1/publico/carrito.jsp</td>\n",
       "      <td>0</td>\n",
       "      <td>0</td>\n",
       "    </tr>\n",
       "    <tr>\n",
       "      <th>4</th>\n",
       "      <td>http://localhost:8080/tienda1/imagenes/nuestra...</td>\n",
       "      <td>0</td>\n",
       "      <td>0</td>\n",
       "    </tr>\n",
       "  </tbody>\n",
       "</table>\n",
       "</div>"
      ]
     },
     "execution_count": 23,
     "metadata": {},
     "output_type": "execute_result"
    }
   ],
   "execution_count": 23
  },
  {
   "cell_type": "code",
   "metadata": {
    "id": "9hijMgvBAXg9",
    "ExecuteTime": {
     "end_time": "2024-10-28T12:53:59.450257Z",
     "start_time": "2024-10-28T12:53:58.077197Z"
    }
   },
   "source": [
    "y_pred = model.predict(test_data)"
   ],
   "outputs": [
    {
     "name": "stdout",
     "output_type": "stream",
     "text": [
      "\u001B[1m191/191\u001B[0m \u001B[32m━━━━━━━━━━━━━━━━━━━━\u001B[0m\u001B[37m\u001B[0m \u001B[1m1s\u001B[0m 5ms/step\n"
     ]
    }
   ],
   "execution_count": 24
  },
  {
   "cell_type": "code",
   "metadata": {
    "colab": {
     "base_uri": "https://localhost:8080/",
     "height": 197
    },
    "id": "RgAq6tGMkPCq",
    "outputId": "2cb4981a-9c6a-4c4d-ae21-8e61a3049096",
    "ExecuteTime": {
     "end_time": "2024-10-28T12:53:59.489788Z",
     "start_time": "2024-10-28T12:53:59.482951Z"
    }
   },
   "source": [
    "evaluation['y_pred'] = y_pred\n",
    "evaluation.head()"
   ],
   "outputs": [
    {
     "data": {
      "text/plain": [
       "                                                 URL  Target  y_match  \\\n",
       "0       http://localhost:8080/tienda1/imagenes/3.gif       0        0   \n",
       "1  http://localhost:8080/tienda1/publico/autentic...       0        0   \n",
       "2  http://localhost:8080/tienda1/publico/anadir.j...       1        0   \n",
       "3  http://localhost:8080/tienda1/publico/carrito.jsp       0        0   \n",
       "4  http://localhost:8080/tienda1/imagenes/nuestra...       0        0   \n",
       "\n",
       "     y_pred  \n",
       "0  0.002446  \n",
       "1  0.681364  \n",
       "2  0.997617  \n",
       "3  0.002916  \n",
       "4  0.003456  "
      ],
      "text/html": [
       "<div>\n",
       "<style scoped>\n",
       "    .dataframe tbody tr th:only-of-type {\n",
       "        vertical-align: middle;\n",
       "    }\n",
       "\n",
       "    .dataframe tbody tr th {\n",
       "        vertical-align: top;\n",
       "    }\n",
       "\n",
       "    .dataframe thead th {\n",
       "        text-align: right;\n",
       "    }\n",
       "</style>\n",
       "<table border=\"1\" class=\"dataframe\">\n",
       "  <thead>\n",
       "    <tr style=\"text-align: right;\">\n",
       "      <th></th>\n",
       "      <th>URL</th>\n",
       "      <th>Target</th>\n",
       "      <th>y_match</th>\n",
       "      <th>y_pred</th>\n",
       "    </tr>\n",
       "  </thead>\n",
       "  <tbody>\n",
       "    <tr>\n",
       "      <th>0</th>\n",
       "      <td>http://localhost:8080/tienda1/imagenes/3.gif</td>\n",
       "      <td>0</td>\n",
       "      <td>0</td>\n",
       "      <td>0.002446</td>\n",
       "    </tr>\n",
       "    <tr>\n",
       "      <th>1</th>\n",
       "      <td>http://localhost:8080/tienda1/publico/autentic...</td>\n",
       "      <td>0</td>\n",
       "      <td>0</td>\n",
       "      <td>0.681364</td>\n",
       "    </tr>\n",
       "    <tr>\n",
       "      <th>2</th>\n",
       "      <td>http://localhost:8080/tienda1/publico/anadir.j...</td>\n",
       "      <td>1</td>\n",
       "      <td>0</td>\n",
       "      <td>0.997617</td>\n",
       "    </tr>\n",
       "    <tr>\n",
       "      <th>3</th>\n",
       "      <td>http://localhost:8080/tienda1/publico/carrito.jsp</td>\n",
       "      <td>0</td>\n",
       "      <td>0</td>\n",
       "      <td>0.002916</td>\n",
       "    </tr>\n",
       "    <tr>\n",
       "      <th>4</th>\n",
       "      <td>http://localhost:8080/tienda1/imagenes/nuestra...</td>\n",
       "      <td>0</td>\n",
       "      <td>0</td>\n",
       "      <td>0.003456</td>\n",
       "    </tr>\n",
       "  </tbody>\n",
       "</table>\n",
       "</div>"
      ]
     },
     "execution_count": 25,
     "metadata": {},
     "output_type": "execute_result"
    }
   ],
   "execution_count": 25
  },
  {
   "cell_type": "code",
   "metadata": {
    "colab": {
     "base_uri": "https://localhost:8080/",
     "height": 197
    },
    "id": "jipsQ1lz-0l0",
    "outputId": "436cba89-4959-48f0-d45b-cd8c3d095206",
    "ExecuteTime": {
     "end_time": "2024-10-28T12:53:59.571408Z",
     "start_time": "2024-10-28T12:53:59.565054Z"
    }
   },
   "source": [
    "evaluation['y_pred'] = evaluation['y_pred'].apply(lambda x:1 if x >= 0.5 else 0)\n",
    "evaluation.head()"
   ],
   "outputs": [
    {
     "data": {
      "text/plain": [
       "                                                 URL  Target  y_match  y_pred\n",
       "0       http://localhost:8080/tienda1/imagenes/3.gif       0        0       0\n",
       "1  http://localhost:8080/tienda1/publico/autentic...       0        0       1\n",
       "2  http://localhost:8080/tienda1/publico/anadir.j...       1        0       1\n",
       "3  http://localhost:8080/tienda1/publico/carrito.jsp       0        0       0\n",
       "4  http://localhost:8080/tienda1/imagenes/nuestra...       0        0       0"
      ],
      "text/html": [
       "<div>\n",
       "<style scoped>\n",
       "    .dataframe tbody tr th:only-of-type {\n",
       "        vertical-align: middle;\n",
       "    }\n",
       "\n",
       "    .dataframe tbody tr th {\n",
       "        vertical-align: top;\n",
       "    }\n",
       "\n",
       "    .dataframe thead th {\n",
       "        text-align: right;\n",
       "    }\n",
       "</style>\n",
       "<table border=\"1\" class=\"dataframe\">\n",
       "  <thead>\n",
       "    <tr style=\"text-align: right;\">\n",
       "      <th></th>\n",
       "      <th>URL</th>\n",
       "      <th>Target</th>\n",
       "      <th>y_match</th>\n",
       "      <th>y_pred</th>\n",
       "    </tr>\n",
       "  </thead>\n",
       "  <tbody>\n",
       "    <tr>\n",
       "      <th>0</th>\n",
       "      <td>http://localhost:8080/tienda1/imagenes/3.gif</td>\n",
       "      <td>0</td>\n",
       "      <td>0</td>\n",
       "      <td>0</td>\n",
       "    </tr>\n",
       "    <tr>\n",
       "      <th>1</th>\n",
       "      <td>http://localhost:8080/tienda1/publico/autentic...</td>\n",
       "      <td>0</td>\n",
       "      <td>0</td>\n",
       "      <td>1</td>\n",
       "    </tr>\n",
       "    <tr>\n",
       "      <th>2</th>\n",
       "      <td>http://localhost:8080/tienda1/publico/anadir.j...</td>\n",
       "      <td>1</td>\n",
       "      <td>0</td>\n",
       "      <td>1</td>\n",
       "    </tr>\n",
       "    <tr>\n",
       "      <th>3</th>\n",
       "      <td>http://localhost:8080/tienda1/publico/carrito.jsp</td>\n",
       "      <td>0</td>\n",
       "      <td>0</td>\n",
       "      <td>0</td>\n",
       "    </tr>\n",
       "    <tr>\n",
       "      <th>4</th>\n",
       "      <td>http://localhost:8080/tienda1/imagenes/nuestra...</td>\n",
       "      <td>0</td>\n",
       "      <td>0</td>\n",
       "      <td>0</td>\n",
       "    </tr>\n",
       "  </tbody>\n",
       "</table>\n",
       "</div>"
      ]
     },
     "execution_count": 26,
     "metadata": {},
     "output_type": "execute_result"
    }
   ],
   "execution_count": 26
  },
  {
   "cell_type": "code",
   "metadata": {
    "colab": {
     "base_uri": "https://localhost:8080/"
    },
    "id": "6QW9ZaHOEJ0T",
    "outputId": "3b556f46-b5a5-4183-ab81-c12191c307fe",
    "ExecuteTime": {
     "end_time": "2024-10-28T12:53:59.619443Z",
     "start_time": "2024-10-28T12:53:59.615885Z"
    }
   },
   "source": [
    "print(sum(evaluation['Target']))\n",
    "print(sum(evaluation['y_pred']))"
   ],
   "outputs": [
    {
     "name": "stdout",
     "output_type": "stream",
     "text": [
      "2485\n",
      "3281\n"
     ]
    }
   ],
   "execution_count": 27
  },
  {
   "cell_type": "code",
   "metadata": {
    "colab": {
     "base_uri": "https://localhost:8080/",
     "height": 197
    },
    "id": "iebiffvGFVmP",
    "outputId": "07d1bea9-ca94-4c1f-c646-24563f5c4a97",
    "ExecuteTime": {
     "end_time": "2024-10-28T12:53:59.753794Z",
     "start_time": "2024-10-28T12:53:59.746976Z"
    }
   },
   "source": [
    "evaluation['WAffle'] = (evaluation['y_pred'] | evaluation['y_match'])\n",
    "evaluation.head()"
   ],
   "outputs": [
    {
     "data": {
      "text/plain": [
       "                                                 URL  Target  y_match  y_pred  \\\n",
       "0       http://localhost:8080/tienda1/imagenes/3.gif       0        0       0   \n",
       "1  http://localhost:8080/tienda1/publico/autentic...       0        0       1   \n",
       "2  http://localhost:8080/tienda1/publico/anadir.j...       1        0       1   \n",
       "3  http://localhost:8080/tienda1/publico/carrito.jsp       0        0       0   \n",
       "4  http://localhost:8080/tienda1/imagenes/nuestra...       0        0       0   \n",
       "\n",
       "   WAffle  \n",
       "0       0  \n",
       "1       1  \n",
       "2       1  \n",
       "3       0  \n",
       "4       0  "
      ],
      "text/html": [
       "<div>\n",
       "<style scoped>\n",
       "    .dataframe tbody tr th:only-of-type {\n",
       "        vertical-align: middle;\n",
       "    }\n",
       "\n",
       "    .dataframe tbody tr th {\n",
       "        vertical-align: top;\n",
       "    }\n",
       "\n",
       "    .dataframe thead th {\n",
       "        text-align: right;\n",
       "    }\n",
       "</style>\n",
       "<table border=\"1\" class=\"dataframe\">\n",
       "  <thead>\n",
       "    <tr style=\"text-align: right;\">\n",
       "      <th></th>\n",
       "      <th>URL</th>\n",
       "      <th>Target</th>\n",
       "      <th>y_match</th>\n",
       "      <th>y_pred</th>\n",
       "      <th>WAffle</th>\n",
       "    </tr>\n",
       "  </thead>\n",
       "  <tbody>\n",
       "    <tr>\n",
       "      <th>0</th>\n",
       "      <td>http://localhost:8080/tienda1/imagenes/3.gif</td>\n",
       "      <td>0</td>\n",
       "      <td>0</td>\n",
       "      <td>0</td>\n",
       "      <td>0</td>\n",
       "    </tr>\n",
       "    <tr>\n",
       "      <th>1</th>\n",
       "      <td>http://localhost:8080/tienda1/publico/autentic...</td>\n",
       "      <td>0</td>\n",
       "      <td>0</td>\n",
       "      <td>1</td>\n",
       "      <td>1</td>\n",
       "    </tr>\n",
       "    <tr>\n",
       "      <th>2</th>\n",
       "      <td>http://localhost:8080/tienda1/publico/anadir.j...</td>\n",
       "      <td>1</td>\n",
       "      <td>0</td>\n",
       "      <td>1</td>\n",
       "      <td>1</td>\n",
       "    </tr>\n",
       "    <tr>\n",
       "      <th>3</th>\n",
       "      <td>http://localhost:8080/tienda1/publico/carrito.jsp</td>\n",
       "      <td>0</td>\n",
       "      <td>0</td>\n",
       "      <td>0</td>\n",
       "      <td>0</td>\n",
       "    </tr>\n",
       "    <tr>\n",
       "      <th>4</th>\n",
       "      <td>http://localhost:8080/tienda1/imagenes/nuestra...</td>\n",
       "      <td>0</td>\n",
       "      <td>0</td>\n",
       "      <td>0</td>\n",
       "      <td>0</td>\n",
       "    </tr>\n",
       "  </tbody>\n",
       "</table>\n",
       "</div>"
      ]
     },
     "execution_count": 28,
     "metadata": {},
     "output_type": "execute_result"
    }
   ],
   "execution_count": 28
  },
  {
   "cell_type": "code",
   "metadata": {
    "colab": {
     "base_uri": "https://localhost:8080/"
    },
    "id": "GNovsX7UIjWF",
    "outputId": "52b79ebb-8faa-4b26-f986-a4a1de8f2493",
    "ExecuteTime": {
     "end_time": "2024-10-28T12:53:59.897246Z",
     "start_time": "2024-10-28T12:53:59.887067Z"
    }
   },
   "source": [
    "print(accuracy_score(evaluation['Target'], evaluation['WAffle']))\n",
    "print(precision_score(evaluation['Target'], evaluation['WAffle']))\n",
    "print(recall_score(evaluation['Target'], evaluation['WAffle']))"
   ],
   "outputs": [
    {
     "name": "stdout",
     "output_type": "stream",
     "text": [
      "0.8644178811200262\n",
      "0.7525144772935081\n",
      "0.9935613682092556\n"
     ]
    }
   ],
   "execution_count": 29
  },
  {
   "cell_type": "code",
   "metadata": {
    "colab": {
     "base_uri": "https://localhost:8080/"
    },
    "id": "8RL6YNaMl3oX",
    "outputId": "6d78a324-abcb-4c4e-c02c-803f12d21b54",
    "ExecuteTime": {
     "end_time": "2024-10-28T12:54:00.049485Z",
     "start_time": "2024-10-28T12:54:00.038701Z"
    }
   },
   "source": [
    "print(classification_report(evaluation['Target'], evaluation['WAffle']))"
   ],
   "outputs": [
    {
     "name": "stdout",
     "output_type": "stream",
     "text": [
      "              precision    recall  f1-score   support\n",
      "\n",
      "           0       0.99      0.78      0.87      3622\n",
      "           1       0.75      0.99      0.86      2485\n",
      "\n",
      "    accuracy                           0.86      6107\n",
      "   macro avg       0.87      0.88      0.86      6107\n",
      "weighted avg       0.90      0.86      0.87      6107\n",
      "\n"
     ]
    }
   ],
   "execution_count": 30
  },
  {
   "cell_type": "code",
   "metadata": {
    "colab": {
     "base_uri": "https://localhost:8080/"
    },
    "id": "LAQYtmohnhKY",
    "outputId": "5916c32e-f256-430d-fa93-793b8568e0c4",
    "ExecuteTime": {
     "end_time": "2024-10-28T12:54:00.184122Z",
     "start_time": "2024-10-28T12:54:00.169240Z"
    }
   },
   "source": [
    "d = classification_report(evaluation['Target'], evaluation['WAffle'], output_dict=True)\n",
    "pprint.pprint(d)"
   ],
   "outputs": [
    {
     "name": "stdout",
     "output_type": "stream",
     "text": [
      "{'0': {'f1-score': 0.8715880893300249,\n",
      "       'precision': 0.9943382873319179,\n",
      "       'recall': 0.7758144671452236,\n",
      "       'support': 3622.0},\n",
      " '1': {'f1-score': 0.8563995837669095,\n",
      "       'precision': 0.7525144772935081,\n",
      "       'recall': 0.9935613682092556,\n",
      "       'support': 2485.0},\n",
      " 'accuracy': 0.8644178811200262,\n",
      " 'macro avg': {'f1-score': 0.8639938365484672,\n",
      "               'precision': 0.873426382312713,\n",
      "               'recall': 0.8846879176772395,\n",
      "               'support': 6107.0},\n",
      " 'weighted avg': {'f1-score': 0.8654077329644867,\n",
      "                  'precision': 0.8959377358425697,\n",
      "                  'recall': 0.8644178811200262,\n",
      "                  'support': 6107.0}}\n"
     ]
    }
   ],
   "execution_count": 31
  },
  {
   "cell_type": "code",
   "metadata": {
    "colab": {
     "base_uri": "https://localhost:8080/"
    },
    "id": "79MjwB-rHjCU",
    "outputId": "a447c6ac-8f18-4e25-853f-237afd2c8af1",
    "ExecuteTime": {
     "end_time": "2024-10-28T12:54:00.268015Z",
     "start_time": "2024-10-28T12:54:00.262849Z"
    }
   },
   "source": [
    "cm = confusion_matrix(evaluation['Target'], evaluation['WAffle'])\n",
    "print(cm)"
   ],
   "outputs": [
    {
     "name": "stdout",
     "output_type": "stream",
     "text": [
      "[[2810  812]\n",
      " [  16 2469]]\n"
     ]
    }
   ],
   "execution_count": 32
  },
  {
   "cell_type": "code",
   "metadata": {
    "colab": {
     "base_uri": "https://localhost:8080/",
     "height": 282
    },
    "id": "JLmsOGCkHz_X",
    "outputId": "231890b2-9c2b-47b4-fcf5-f78e6a543dd1",
    "ExecuteTime": {
     "end_time": "2024-10-28T12:54:00.434663Z",
     "start_time": "2024-10-28T12:54:00.311450Z"
    }
   },
   "source": [
    "import seaborn as sns\n",
    "import matplotlib.pyplot as plt\n",
    "plt.figure(figsize=(13, 10))\n",
    "sns.heatmap(cm, annot=True, fmt='d', cmap='coolwarm', xticklabels=['Class 0', 'Class 1'], yticklabels=['Class 0', 'Class 1'])\n",
    "plt.xlabel('Predicted Labels')\n",
    "plt.ylabel('True Labels')\n",
    "plt.title('Confusion Matrix')\n",
    "plt.show()"
   ],
   "outputs": [
    {
     "data": {
      "text/plain": [
       "<Figure size 1300x1000 with 2 Axes>"
      ],
      "image/png": "[encoded data removed]"
     },
     "metadata": {},
     "output_type": "display_data"
    }
   ],
   "execution_count": 33
  },
  {
   "cell_type": "code",
   "metadata": {
    "id": "RsJSpTzIH_V4",
    "ExecuteTime": {
     "end_time": "2024-10-28T12:54:00.493230Z",
     "start_time": "2024-10-28T12:54:00.457365Z"
    }
   },
   "source": [
    "evaluation.to_csv('./Dataset/cisc_database/evaluation.csv')"
   ],
   "outputs": [],
   "execution_count": 34
  }
 ]
}
